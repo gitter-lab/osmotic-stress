{
 "cells": [
  {
   "cell_type": "markdown",
   "metadata": {},
   "source": [
    "# Evaluate the predicted targets of Rck2 and Cdc28 - June 22, 2018"
   ]
  },
  {
   "cell_type": "code",
   "execution_count": 1,
   "metadata": {
    "collapsed": false
   },
   "outputs": [],
   "source": [
    "import os\n",
    "import pandas as pd\n",
    "import numpy as np\n",
    "\n",
    "data_dir = os.path.join('..', '..', 'data')\n",
    "eval_dir = os.path.join(data_dir, 'evaluation')\n",
    "tps_dir = os.path.join('..', '..', 'Results', 'network_visualization', 'kanshin_072117')\n",
    "annot_dir = os.path.join('..', 'Cytoscape_Visualization', 'kanshin_072117')\n",
    "\n",
    "rck2_file = os.path.join(eval_dir, 'TableS2_Romanov.xlsx')\n",
    "id_file = os.path.join(data_dir, 'SGD_id_map.txt')\n",
    "rck2_tps_dir_file = os.path.join(tps_dir, 'rck2-directed-neighbors.txt')\n",
    "rck2_tps_act_file = os.path.join(tps_dir, 'rck2-activated-neighbors.txt')\n",
    "annot_file = os.path.join(annot_dir, 'kanshin2015-cytoscape-annotations.txt')"
   ]
  },
  {
   "cell_type": "markdown",
   "metadata": {},
   "source": [
    "## Load and format the Rck2 target data\n",
    "\n",
    "Only load the following columns:\n",
    "- **0**: Protein name\n",
    "- **1**: PhosphoSite\n",
    "- **16**: SETUP SR wt +/- 5min 0.5M NaCl Average L/H-ratio\n",
    "- **71**: SETUP rck2 wt vs. rck2Δ + 5min 0.5M NaCl Average L/H-ratio\n",
    "\n",
    "Have to skip the initial rows because the Δ doesn't parse correctly.\n",
    "\n",
    "Romanov Table S6 defines the strains:\n",
    "- **WR209**: W303, Mat a; lys1::kanMX arg4::kanMX CAN1 leu2-3,112 trp1-1 ura3-1 ade2-1 his3-11,15\n",
    "- **MJ243**: W303, Mat a; rck2::HIS3 lys1::kanMX arg4::kanMX CAN1 leu2-3,112 trp1-1 ura3-1 ade2-1 his3-11,23\n",
    "\n",
    "Romanov Table S8 defines the ratios:\n",
    "- **SETUP SR wt +/- 5min 0.5M NaCl Average L/H-ratio**: 0.5M NaCl for 5mins / no stress\n",
    "- **SETUP rck2 wt vs. rck2Δ + 5min 0.5M NaCl Average L/H-ratio**: MJ243 +5mins 0.5M NaCl / WR209 +5mins 0.5M NaCl"
   ]
  },
  {
   "cell_type": "code",
   "execution_count": 2,
   "metadata": {
    "collapsed": false
   },
   "outputs": [],
   "source": [
    "headers = ['Protein', 'Phosphosite', 'WT 5min L/H ratio', 'rck2 del 5min L/H ratio']\n",
    "rck2_df = pd.read_excel(rck2_file, header=None, skiprows=[0,1,2], parse_cols=[0,1,16,71], names=headers)\n",
    "\n",
    "# check the length and number of non-missing data points\n",
    "assert len(rck2_df) == 16413\n",
    "assert sum(np.isnan(rck2_df['WT 5min L/H ratio'])) == 8356\n",
    "assert sum(np.isnan(rck2_df['rck2 del 5min L/H ratio'])) == 11579"
   ]
  },
  {
   "cell_type": "code",
   "execution_count": 3,
   "metadata": {
    "collapsed": true
   },
   "outputs": [],
   "source": [
    "# remove rows missing values in either condition\n",
    "filt_rck2_df = rck2_df.dropna()\n",
    "assert len(filt_rck2_df) == 2794\n",
    "\n",
    "# spot check some proteins' values\n",
    "assert filt_rck2_df[(filt_rck2_df['Protein'] == 'ABP140') & (filt_rck2_df['Phosphosite'] == '326(S)')]['WT 5min L/H ratio'].values[0] == 1.21\n",
    "assert filt_rck2_df[(filt_rck2_df['Protein'] == 'ABP140') & (filt_rck2_df['Phosphosite'] == '326(S)')]['rck2 del 5min L/H ratio'].values[0] == 1.00\n",
    "\n",
    "assert filt_rck2_df[(filt_rck2_df['Protein'] == 'ZUO1') & (filt_rck2_df['Phosphosite'] == '50(S)')]['WT 5min L/H ratio'].values[0] == 0.87\n",
    "assert filt_rck2_df[(filt_rck2_df['Protein'] == 'ZUO1') & (filt_rck2_df['Phosphosite'] == '50(S)')]['rck2 del 5min L/H ratio'].values[0] == 1.01"
   ]
  },
  {
   "cell_type": "markdown",
   "metadata": {},
   "source": [
    "## Filter the Rck2 target data\n",
    "- Must have >= 2 fold change in wild type when stimulated with NaCl\n",
    "- Must have Rck2 defect >= 1.5 fold, that is, (rck2 del)/(wild type) <= 1/1.5\n",
    "\n",
    "Phosphosites that are not observed in the Romanov wild type setup will be processed separately."
   ]
  },
  {
   "cell_type": "code",
   "execution_count": 4,
   "metadata": {
    "collapsed": false
   },
   "outputs": [],
   "source": [
    "filt_rck2_df = filt_rck2_df[filt_rck2_df['WT 5min L/H ratio'] >= 2]\n",
    "assert len(filt_rck2_df) == 408\n",
    "\n",
    "# Use a threshold of 2/3 intead of 0.5\n",
    "filt_rck2_df = filt_rck2_df[filt_rck2_df['rck2 del 5min L/H ratio'] <= 1/1.5]\n",
    "assert len(filt_rck2_df) == 140"
   ]
  },
  {
   "cell_type": "markdown",
   "metadata": {},
   "source": [
    "## Format Rck2 target phosphosites\n",
    "- Split di- and tri-phosphorylated peptides to match individual sites\n",
    "- Map gene symbols to ORF identifiers\n",
    "\n",
    "Track the sites, but the predictions will be matched at the protein level."
   ]
  },
  {
   "cell_type": "code",
   "execution_count": 5,
   "metadata": {
    "collapsed": false
   },
   "outputs": [],
   "source": [
    "# Format the Romanov phosphosite to match the Kanshin phosphosite, including splitting sites\n",
    "def format_site(site):\n",
    "    site = site.rstrip(')')\n",
    "    tokens = site.split('(')\n",
    "    return tokens[1] + tokens[0]\n",
    "\n",
    "def format_sites(sites):\n",
    "    return map(format_site, sites.split(','))"
   ]
  },
  {
   "cell_type": "code",
   "execution_count": 6,
   "metadata": {
    "collapsed": false
   },
   "outputs": [
    {
     "name": "stdout",
     "output_type": "stream",
     "text": [
      "['S312']\n",
      "['T233', 'S236']\n"
     ]
    }
   ],
   "source": [
    "# Test the site formatting\n",
    "print(format_sites('312(S)'))\n",
    "print(format_sites('233(T),236(S)'))"
   ]
  },
  {
   "cell_type": "code",
   "execution_count": 7,
   "metadata": {
    "collapsed": false
   },
   "outputs": [
    {
     "name": "stdout",
     "output_type": "stream",
     "text": [
      "140 rck2 defective phosphosites before splitting di- and tri-phosphorylated\n",
      "146 rck2 defective phosphosites after splitting di- and tri-phosphorylated\n",
      "113 proteins (ORFs) with a rck2 defective phosphosite\n"
     ]
    }
   ],
   "source": [
    "id_df = pd.read_csv(id_file, sep='\\t', header=None, names=['ORF', 'Symbol'])\n",
    "assert len(id_df) == 8061\n",
    "assert len(id_df['ORF'].unique()) == 8061\n",
    "assert len(id_df['Symbol'].unique()) == 8061\n",
    "id_map = dict(zip(id_df['Symbol'], id_df['ORF']))\n",
    "# Make sure ORF ids can always map back to themselves\n",
    "orf_orf_map = dict(zip(id_df['ORF'], id_df['ORF']))\n",
    "id_map.update(orf_orf_map)\n",
    "\n",
    "# Manually add SDH8 / YBR269C https://www.yeastgenome.org/locus/S000000473\n",
    "# Manually add TRS65 / YGR166W https://www.yeastgenome.org/locus/S000003398\n",
    "# Romanov table uses synonyms\n",
    "assert 'FMP21' not in id_map\n",
    "id_map['FMP21'] = 'YBR269C'\n",
    "assert 'KRE11' not in id_map\n",
    "id_map['KRE11'] = 'YGR166W'\n",
    "\n",
    "rev_id_map = dict(zip(id_df['ORF'], id_df['Symbol']))\n",
    "\n",
    "print('{} rck2 defective phosphosites before splitting di- and tri-phosphorylated'.format(len(filt_rck2_df)))\n",
    "\n",
    "rck2_def_sites = set()\n",
    "rck2_def_prots = set()\n",
    "\n",
    "for index, row in filt_rck2_df.iterrows():\n",
    "    for site in format_sites(row['Phosphosite']):\n",
    "        orf = id_map[str(row['Protein'])]\n",
    "        rck2_def_prots.add(orf)\n",
    "        rck2_def_sites.add(orf + '::' + site)\n",
    "\n",
    "print('{} rck2 defective phosphosites after splitting di- and tri-phosphorylated'.format(len(rck2_def_sites)))\n",
    "print('{} proteins (ORFs) with a rck2 defective phosphosite'.format(len(rck2_def_prots)))\n",
    "\n",
    "# confirm the proteins we discuss in the manuscript, expect the special case PIK1, appear in this list\n",
    "# FPK1 / YNR047W\n",
    "assert 'YNR047W' in rck2_def_prots\n",
    "# ROD1 / YOR018W\n",
    "assert 'YNR047W' in rck2_def_prots\n",
    "# YLR257W\n",
    "assert 'YNR047W' in rck2_def_prots"
   ]
  },
  {
   "cell_type": "markdown",
   "metadata": {},
   "source": [
    "## Supplement Rck2 target phosphosites\n",
    "\n",
    "We also manually noted that PIK1 396(S) has a phospho defect in rck2 deletion.  It significantly increases in phosphorylation in the Kanshin study, is not observed in the wild type condition in the Romanov study, and has (rck2 del)/(wild type)=0.29 in the Romanov study.  Here, we systematically add all proteins that have significant changes on at least one phoshosite in the Kanshin data, are not observed in the Romanov wild type setup, and have rck2 defects.  We do not require the significant change in the Kanshin dataset to be an increase in phosphorlyation because that information is not easily accessible.\n",
    "\n",
    "Also derive the proteins that have an rck2 defect and are observed in the Kanshin dataset.  We will use these proteins to calculate recall."
   ]
  },
  {
   "cell_type": "code",
   "execution_count": 8,
   "metadata": {
    "collapsed": false
   },
   "outputs": [],
   "source": [
    "# Load the proteins with significantly changing phosphosites from Kanshin\n",
    "kanshin_df = pd.read_csv(annot_file, sep='\\t')\n",
    "\n",
    "all_kanshin_prots = set(kanshin_df.loc[kanshin_df['SigPeptide1'].notnull() | kanshin_df['InsigPeptide1'].notnull(), 'Protein'].values)\n",
    "assert len(all_kanshin_prots) == 1596\n",
    "\n",
    "sig_kanshin_df = kanshin_df[kanshin_df['SigPeptide1'].notnull()]\n",
    "assert len(sig_kanshin_df) == 784\n",
    "assert set(sig_kanshin_df['NodeType'].values) == {'Excluded', 'SigPrize'}\n",
    "\n",
    "sig_kanshin_prots = set(sig_kanshin_df['Protein'].values)\n",
    "assert len(sig_kanshin_prots) == 784"
   ]
  },
  {
   "cell_type": "code",
   "execution_count": 9,
   "metadata": {
    "collapsed": true
   },
   "outputs": [],
   "source": [
    "# Confirm the Rck2 dataset has not yet been filtered\n",
    "assert len(rck2_df) == 16413\n",
    "assert sum(np.isnan(rck2_df['WT 5min L/H ratio'])) == 8356\n",
    "assert sum(np.isnan(rck2_df['rck2 del 5min L/H ratio'])) == 11579\n",
    "\n",
    "# Select phosphosites for which the wild type response is not observed and there is a phosphorylation defect in rck2 deletion\n",
    "filt_rck2_df = rck2_df[rck2_df['WT 5min L/H ratio'].isnull()]\n",
    "assert len(filt_rck2_df) == 8356\n",
    "\n",
    "filt_rck2_df = filt_rck2_df[filt_rck2_df['rck2 del 5min L/H ratio'] <= 1/1.5]\n",
    "assert len(filt_rck2_df) == 275\n",
    "\n",
    "assert filt_rck2_df['Protein'].values[0] == 'ABP140'\n",
    "assert filt_rck2_df['Phosphosite'].values[0] == '321(S)'"
   ]
  },
  {
   "cell_type": "code",
   "execution_count": 10,
   "metadata": {
    "collapsed": false
   },
   "outputs": [
    {
     "name": "stdout",
     "output_type": "stream",
     "text": [
      "113 proteins (ORFs) with a rck2 defective phosphosite before adding significant Kanshin proteins\n",
      "204 proteins (ORFs) with a rck2 defective phosphosite after adding significant Kanshin proteins\n",
      "193 proteins (ORFs) with a rck2 defective phosphosite and observed in Kanshin\n"
     ]
    }
   ],
   "source": [
    "print('{} proteins (ORFs) with a rck2 defective phosphosite before adding significant Kanshin proteins'.format(len(rck2_def_prots)))\n",
    "\n",
    "for index, row in filt_rck2_df.iterrows():\n",
    "    orf = id_map[str(row['Protein'])]\n",
    "    if orf in sig_kanshin_prots:\n",
    "        rck2_def_prots.add(orf)\n",
    "\n",
    "print('{} proteins (ORFs) with a rck2 defective phosphosite after adding significant Kanshin proteins'.format(len(rck2_def_prots)))\n",
    "# PIK1 / YNL267W\n",
    "assert 'YNL267W' in rck2_def_prots\n",
    "\n",
    "# Proteins with rck2 phosphorylation defect by either definition and significant or insignificant response in Kanshin\n",
    "kanshin_rck2_def_prots = rck2_def_prots.intersection(all_kanshin_prots)\n",
    "print('{} proteins (ORFs) with a rck2 defective phosphosite and observed in Kanshin'.format(len(kanshin_rck2_def_prots)))"
   ]
  },
  {
   "cell_type": "markdown",
   "metadata": {},
   "source": [
    "## Compare TPS Rck2 targets and Rck2 phosphorylation defects\n",
    "\n",
    "Consider the directed targets of Rck2 seprately from the directed, activated targets.  These ratios could be interpreted and the precision and recall for the TPS Rck2 target predictions.  However, TPS predicts direct Rck2 targets and Rck2 defects can be indirect.  This is in part why the recall is low."
   ]
  },
  {
   "cell_type": "code",
   "execution_count": 11,
   "metadata": {
    "collapsed": false
   },
   "outputs": [
    {
     "name": "stdout",
     "output_type": "stream",
     "text": [
      "rck2 defect and TPS Rck2 directed target: 7\n",
      "0.0343137254902 of rck2 defect\n",
      "0.538461538462 of TPS Rck2 directed target\n",
      "YBL007C\tSLA1\n",
      "YHR131C\tYHR131C\n",
      "YLR257W\tYLR257W\n",
      "YNL074C\tMLF3\n",
      "YNL267W\tPIK1\n",
      "YNR047W\tFPK1\n",
      "YOR018W\tROD1\n",
      "\n",
      "rck2 defect Kanshin and TPS Rck2 directed target: 7\n",
      "0.0362694300518 of rck2 defect\n",
      "0.538461538462 of TPS Rck2 directed target\n",
      "YBL007C\tSLA1\n",
      "YHR131C\tYHR131C\n",
      "YLR257W\tYLR257W\n",
      "YNL074C\tMLF3\n",
      "YNL267W\tPIK1\n",
      "YNR047W\tFPK1\n",
      "YOR018W\tROD1\n",
      "\n",
      "rck2 defect Kanshin and TPS Rck2 activated target: 4\n",
      "0.0196078431373 of rck2 defect\n",
      "1.0 of TPS Rck2 directed target\n",
      "YLR257W\tYLR257W\n",
      "YNL267W\tPIK1\n",
      "YNR047W\tFPK1\n",
      "YOR018W\tROD1\n",
      "\n",
      "rck2 defect Kanshin and TPS Rck2 activated target: 4\n",
      "0.020725388601 of rck2 defect\n",
      "1.0 of TPS Rck2 directed target\n",
      "YLR257W\tYLR257W\n",
      "YNL267W\tPIK1\n",
      "YNR047W\tFPK1\n",
      "YOR018W\tROD1\n"
     ]
    }
   ],
   "source": [
    "rck2_tps_dir_df = pd.read_csv(rck2_tps_dir_file, sep='\\t', header=None, names=['ORF','Symbol'])\n",
    "rck2_tps_dir_targs = set(rck2_tps_dir_df['ORF'].values)\n",
    "assert len(rck2_tps_dir_targs) == 13\n",
    "\n",
    "rck2_tps_dir_targs_def = rck2_def_prots.intersection(rck2_tps_dir_targs)\n",
    "print('rck2 defect and TPS Rck2 directed target: {}'.format(len(rck2_tps_dir_targs_def)))\n",
    "print('{} of rck2 defect'.format(float(len(rck2_tps_dir_targs_def))/len(rck2_def_prots)))\n",
    "print('{} of TPS Rck2 directed target'.format(float(len(rck2_tps_dir_targs_def))/len(rck2_tps_dir_targs)))\n",
    "for orf in sorted(rck2_tps_dir_targs_def):\n",
    "    print('{}\\t{}').format(orf, rev_id_map[orf])\n",
    "\n",
    "rck2_tps_dir_targs_def_kanshin = kanshin_rck2_def_prots.intersection(rck2_tps_dir_targs)\n",
    "print('\\nrck2 defect Kanshin and TPS Rck2 directed target: {}'.format(len(rck2_tps_dir_targs_def_kanshin)))\n",
    "print('{} of rck2 defect'.format(float(len(rck2_tps_dir_targs_def_kanshin))/len(kanshin_rck2_def_prots)))\n",
    "print('{} of TPS Rck2 directed target'.format(float(len(rck2_tps_dir_targs_def_kanshin))/len(rck2_tps_dir_targs)))\n",
    "for orf in sorted(rck2_tps_dir_targs_def_kanshin):\n",
    "    print('{}\\t{}').format(orf, rev_id_map[orf])\n",
    "\n",
    "rck2_tps_act_df = pd.read_csv(rck2_tps_act_file, sep='\\t', header=None, names=['ORF','Symbol'])\n",
    "rck2_tps_act_targs = set(rck2_tps_act_df['ORF'].values)\n",
    "assert len(rck2_tps_act_targs) == 4\n",
    "\n",
    "rck2_tps_act_targs_def = rck2_def_prots.intersection(rck2_tps_act_targs)\n",
    "print('\\nrck2 defect Kanshin and TPS Rck2 activated target: {}'.format(len(rck2_tps_act_targs_def)))\n",
    "print('{} of rck2 defect'.format(float(len(rck2_tps_act_targs_def))/len(rck2_def_prots)))\n",
    "print('{} of TPS Rck2 directed target'.format(float(len(rck2_tps_act_targs_def))/len(rck2_tps_act_targs)))\n",
    "for orf in sorted(rck2_tps_act_targs_def):\n",
    "    print('{}\\t{}').format(orf, rev_id_map[orf])\n",
    "\n",
    "rck2_tps_act_targs_def_kanshin = kanshin_rck2_def_prots.intersection(rck2_tps_act_targs)\n",
    "print('\\nrck2 defect Kanshin and TPS Rck2 activated target: {}'.format(len(rck2_tps_act_targs_def_kanshin)))\n",
    "print('{} of rck2 defect'.format(float(len(rck2_tps_act_targs_def_kanshin))/len(kanshin_rck2_def_prots)))\n",
    "print('{} of TPS Rck2 directed target'.format(float(len(rck2_tps_act_targs_def_kanshin))/len(rck2_tps_act_targs)))\n",
    "for orf in sorted(rck2_tps_act_targs_def_kanshin):\n",
    "    print('{}\\t{}').format(orf, rev_id_map[orf])"
   ]
  },
  {
   "cell_type": "markdown",
   "metadata": {},
   "source": [
    "## Log the Python environment"
   ]
  },
  {
   "cell_type": "code",
   "execution_count": 12,
   "metadata": {
    "collapsed": false
   },
   "outputs": [
    {
     "name": "stdout",
     "output_type": "stream",
     "text": [
      "# packages in environment at C:\\Program Files\\Anaconda:\n",
      "#\n",
      "_license                  1.1                      py27_0    <unknown>\n",
      "anaconda                  2.1.0                np19py27_0    <unknown>\n",
      "argcomplete               0.8.1                    py27_0    <unknown>\n",
      "asn1crypto                0.22.0                   py27_0  \n",
      "astropy                   0.4.2                np19py27_0    <unknown>\n",
      "atom                      0.3.9                    py27_0    <unknown>\n",
      "beautiful-soup            4.3.2                    py27_0    <unknown>\n",
      "binstar                   0.7.1                    py27_0    <unknown>\n",
      "bitarray                  0.8.1                    py27_1    <unknown>\n",
      "blaze                     0.6.3                np19py27_0    <unknown>\n",
      "blz                       0.6.2                np19py27_0    <unknown>\n",
      "bokeh                     0.6.1                np19py27_0    <unknown>\n",
      "boto                      2.32.1                   py27_0    <unknown>\n",
      "brewer2mpl                1.4.1                     <pip>\n",
      "bzip2                     1.0.6                     vc9_3  [vc9]\n",
      "casuarius                 1.1                      py27_0    <unknown>\n",
      "cdecimal                  2.3                      py27_1    <unknown>\n",
      "cffi                      1.10.0                   py27_0  \n",
      "chaco                     4.4.1                np19py27_0    <unknown>\n",
      "click                     6.6                      py27_0  \n",
      "colorama                  0.3.1                    py27_0    <unknown>\n",
      "conda                     4.3.30           py27he817781_0  \n",
      "conda-build               1.8.2                    py27_0    <unknown>\n",
      "conda-env                 2.6.0                         0  \n",
      "configobj                 5.0.6                    py27_0    <unknown>\n",
      "cryptography              1.8.1                    py27_0  \n",
      "cython                    0.21                     py27_0    <unknown>\n",
      "cytoolz                   0.7.0                    py27_0    <unknown>\n",
      "datashape                 0.3.0                np19py27_1    <unknown>\n",
      "dateutil                  2.1                      py27_2    <unknown>\n",
      "decorator                 3.4.0                    py27_0    <unknown>\n",
      "docutils                  0.12                     py27_0    <unknown>\n",
      "dragonn                   0.1                       <pip>\n",
      "dynd-python               0.6.5                np19py27_0    <unknown>\n",
      "enable                    4.3.0                np19py27_2    <unknown>\n",
      "enaml                     0.9.8                    py27_0    <unknown>\n",
      "enum34                    1.1.6                    py27_0  \n",
      "flask                     0.10.1                   py27_1    <unknown>\n",
      "freetype                  2.5.5                     vc9_1  [vc9]\n",
      "future                    0.13.1                   py27_0    <unknown>\n",
      "futures                   2.1.6                    py27_0    <unknown>\n",
      "gevent                    1.0.1                    py27_0    <unknown>\n",
      "gevent-websocket          0.9.3                    py27_0    <unknown>\n",
      "greenlet                  0.4.4                    py27_0    <unknown>\n",
      "grin                      1.2.1                    py27_2    <unknown>\n",
      "h5py                      2.3.1                np19py27_0    <unknown>\n",
      "idna                      2.6                      py27_0  \n",
      "ipaddress                 1.0.18                   py27_0  \n",
      "ipython                   3.0.0                    py27_0  \n",
      "ipython-notebook          2.2.0                    py27_0    <unknown>\n",
      "ipython-qtconsole         2.2.0                    py27_0    <unknown>\n",
      "itsdangerous              0.24                     py27_0    <unknown>\n",
      "jdcal                     1.0                      py27_0    <unknown>\n",
      "jinja2                    2.7.3                    py27_1    <unknown>\n",
      "jpeg                      8d                        vc9_2  [vc9]\n",
      "jsonschema                2.4.0                     <pip>\n",
      "kiwisolver                0.1.3                    py27_0    <unknown>\n",
      "launcher                  1.0.0                         1    <unknown>\n",
      "legofy                    1.0.0                     <pip>\n",
      "libpng                    1.6.22                    vc9_0  [vc9]\n",
      "libpython                 1.0                      py27_1    <unknown>\n",
      "libtiff                   4.0.6                     vc9_2  [vc9]\n",
      "llvmpy                    0.12.7                   py27_0    <unknown>\n",
      "lxml                      3.4.0                    py27_0    <unknown>\n",
      "markupsafe                0.23                     py27_0    <unknown>\n",
      "matplotlib                1.4.3                np19py27_1  \n",
      "matplotlib-venn           0.10                      <pip>\n",
      "menuinst                  1.3.2                    py27_0  \n",
      "mingw                     4.7                           1    <unknown>\n",
      "mistune                   0.5.1                    py27_0  \n",
      "mkl                       11.3.3                        1  \n",
      "mock                      1.0.1                    py27_0    <unknown>\n",
      "msvc_runtime              1.0.1                     vc9_0  [vc9]\n",
      "multipledispatch          0.4.7                    py27_0    <unknown>\n",
      "networkx                  1.9.1                    py27_0    <unknown>\n",
      "nltk                      3.0.0                np19py27_0    <unknown>\n",
      "node-webkit               0.10.1                        0    <unknown>\n",
      "nose                      1.3.4                    py27_0    <unknown>\n",
      "numba                     0.14.0               np19py27_0    <unknown>\n",
      "numexpr                   2.6.1               np111py27_0  \n",
      "numpy                     1.11.1                   py27_1  \n",
      "openpyxl                  1.8.5                    py27_0    <unknown>\n",
      "openssl                   1.0.2l                    vc9_0  [vc9]\n",
      "packaging                 16.8                     py27_0  \n",
      "pandas                    0.19.1              np111py27_0  \n",
      "patsy                     0.3.0                np19py27_0    <unknown>\n",
      "pep8                      1.5.7                    py27_0    <unknown>\n",
      "pil                       1.1.7                    py27_0    <unknown>\n",
      "pillow                    3.3.1                    py27_0  \n",
      "pip                       8.1.2                    py27_0  \n",
      "ply                       3.4                      py27_0    <unknown>\n",
      "psutil                    2.1.1                    py27_0    <unknown>\n",
      "py                        1.4.31                   py27_0  \n",
      "pycosat                   0.6.1                    py27_0    <unknown>\n",
      "pycparser                 2.10                     py27_0    <unknown>\n",
      "pycrypto                  2.6.1                    py27_2    <unknown>\n",
      "pyface                    4.4.0                    py27_0    <unknown>\n",
      "pyflakes                  0.8.1                    py27_0    <unknown>\n",
      "pygments                  1.6                      py27_0    <unknown>\n",
      "pyopenssl                 17.0.0                   py27_0  \n",
      "pyparsing                 2.0.3                    py27_0  \n",
      "pyqt                      4.10.4                   py27_1  \n",
      "pyreadline                2.0                      py27_0    <unknown>\n",
      "pytables                  3.1.1                np19py27_1    <unknown>\n",
      "pytest                    3.0.5                    py27_0  \n",
      "python                    2.7.12                        0  \n",
      "python-dateutil           2.4.2                    py27_0  \n",
      "pytz                      2015.4                   py27_0  \n",
      "PyUpSet                   0.1.1.post7               <pip>\n",
      "pywin32                   219                      py27_0    <unknown>\n",
      "pyyaml                    3.11                     py27_3  \n",
      "pyzmq                     14.3.1                   py27_0    <unknown>\n",
      "qvalue                    0.1                       <pip>\n",
      "requests                  2.14.2                   py27_0  \n",
      "rope                      0.9.4                    py27_1    <unknown>\n",
      "ruamel_yaml               0.11.14                  py27_0  \n",
      "runipy                    0.1.1                    py27_0    <unknown>\n",
      "scikit-image              0.10.1               np19py27_0    <unknown>\n",
      "scikit-learn              0.18.1              np111py27_0  \n",
      "scipy                     0.18.1              np111py27_0  \n",
      "seaborn                   0.6.0                np19py27_0  \n",
      "setuptools                20.7.0                   py27_0  \n",
      "six                       1.9.0                    py27_0  \n",
      "sockjs-tornado            1.0.1                    py27_0    <unknown>\n",
      "sphinx                    1.2.3                    py27_0    <unknown>\n",
      "spyder                    2.3.1                    py27_0    <unknown>\n",
      "spyder-app                2.3.1                    py27_0    <unknown>\n",
      "sqlalchemy                0.9.7                    py27_0    <unknown>\n",
      "ssl_match_hostname        3.4.0.2                  py27_0    <unknown>\n",
      "statsmodels               0.5.0                np19py27_2    <unknown>\n",
      "sympy                     0.7.5                    py27_0    <unknown>\n",
      "toolz                     0.7.0                    py27_0    <unknown>\n",
      "tornado                   4.0.2                    py27_0    <unknown>\n",
      "traits                    4.4.0                    py27_0    <unknown>\n",
      "traitsui                  4.4.0                    py27_0    <unknown>\n",
      "ujson                     1.33                     py27_0    <unknown>\n",
      "unicodecsv                0.9.4                    py27_0    <unknown>\n",
      "vc                        9                             0  \n",
      "vs2008_runtime            9.00.30729.1                  0  \n",
      "werkzeug                  0.9.6                    py27_1    <unknown>\n",
      "wheel                     0.29.0                   py27_0  \n",
      "xlrd                      0.9.3                    py27_0    <unknown>\n",
      "xlsxwriter                0.5.7                    py27_0    <unknown>\n",
      "xlwings                   0.2.2                    py27_0    <unknown>\n",
      "xlwt                      0.7.5                    py27_0    <unknown>\n",
      "zlib                      1.2.8                     vc9_3  [vc9]\n"
     ]
    }
   ],
   "source": [
    "! conda list"
   ]
  }
 ],
 "metadata": {
  "kernelspec": {
   "display_name": "Python 2",
   "language": "python",
   "name": "python2"
  },
  "language_info": {
   "codemirror_mode": {
    "name": "ipython",
    "version": 2
   },
   "file_extension": ".py",
   "mimetype": "text/x-python",
   "name": "python",
   "nbconvert_exporter": "python",
   "pygments_lexer": "ipython2",
   "version": "2.7.11"
  }
 },
 "nbformat": 4,
 "nbformat_minor": 0
}
