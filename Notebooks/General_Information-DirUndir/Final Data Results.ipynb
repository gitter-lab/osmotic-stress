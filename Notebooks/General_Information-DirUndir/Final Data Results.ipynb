{
 "cells": [
  {
   "cell_type": "markdown",
   "metadata": {},
   "source": [
    "Develops a venn diagram to determine the differences between the interactome from the Chasman dataset and the significantly phosphorylated proteins (prizes).\n",
    "\n",
    "Input: - ChasmanNetwork-DirUndir.txt - file with all protein interactions - developed from ChasmanNetwork-DirUndir.ipynb\n",
    "       - prizes.txt - file with all the prizes\n",
    "Output: - venn diagram"
   ]
  },
  {
   "cell_type": "markdown",
   "metadata": {},
   "source": [
    "# Create File paths and load libraries"
   ]
  },
  {
   "cell_type": "code",
   "execution_count": 6,
   "metadata": {
    "collapsed": false
   },
   "outputs": [
    {
     "name": "stdout",
     "output_type": "stream",
     "text": [
      "Populating the interactive namespace from numpy and matplotlib\n"
     ]
    }
   ],
   "source": [
    "%pylab inline\n",
    "#import pyupset as pyu #NOT CURRENTLY FUNCTIONING\n",
    "import pandas as pd\n",
    "import matplotlib_venn as mv\n",
    "\n",
    "\n",
    "USERPATH = r'/home/dylan/Documents/HDD/Wisconsin/'\n",
    "NOTEBOOK = r'osmotic-stress/Notebooks/'\n",
    "FILEPATH = USERPATH + NOTEBOOK + 'General_Information-DirUndir/'\n",
    "#r-escapes the whole string\n",
    "networkInter = USERPATH + NOTEBOOK + 'ChasmanNetwork-DirUndir/' +'ChasmanNetwork-DirUndir.txt'\n",
    "prizes = USERPATH + NOTEBOOK + 'PrizesNotebook/prizes.txt'\n"
   ]
  },
  {
   "cell_type": "markdown",
   "metadata": {},
   "source": [
    "# Load in files to dataframes"
   ]
  },
  {
   "cell_type": "code",
   "execution_count": 7,
   "metadata": {
    "collapsed": false
   },
   "outputs": [],
   "source": [
    "dfNetwork = pd.read_csv(networkInter, sep = '\\t', names = [\"GeneA\", \"GeneB\", \"Weight\", \"Direction\"])\n",
    "dfPrizes = pd.read_csv(prizes, sep = '\\t', names = [\"ORF\", \"Fold\"])"
   ]
  },
  {
   "cell_type": "markdown",
   "metadata": {},
   "source": [
    "# Identify the unique elements in data"
   ]
  },
  {
   "cell_type": "code",
   "execution_count": 8,
   "metadata": {
    "collapsed": false,
    "scrolled": true
   },
   "outputs": [
    {
     "name": "stdout",
     "output_type": "stream",
     "text": [
      "['YCL032W' 'YNR031C' 'YJL128C' ..., 'YBR023C' 'YHR206W' 'YJL123C']\n",
      "['YLR006C' 'YNR031C' 'YJL128C' ..., 'YJR074W' 'YIR004W' 'YPR075C']\n",
      "['YAL001C' 'YAL003W' 'YAL005C' ..., 'YPR185W' 'YPR186C' 'YPR190C']\n"
     ]
    }
   ],
   "source": [
    "uniqueGeneA = dfNetwork.GeneA.unique()\n",
    "uniqueGeneB = dfNetwork.GeneB.unique()\n",
    "uniqueORF = dfPrizes.ORF.unique()\n",
    "\n",
    "print uniqueGeneA\n",
    "print uniqueGeneB\n",
    "print uniqueORF"
   ]
  },
  {
   "cell_type": "markdown",
   "metadata": {},
   "source": [
    "# Create venn diagram"
   ]
  },
  {
   "cell_type": "code",
   "execution_count": 9,
   "metadata": {
    "collapsed": false
   },
   "outputs": [],
   "source": [
    "df1 = pd.DataFrame(data = uniqueGeneA, columns=['Items'])\n",
    "df2 = pd.DataFrame(data = uniqueGeneB, columns=['Items'])\n",
    "df3 = pd.DataFrame(data = uniqueORF, columns=['Items'])\n",
    "\n",
    "#pyu.plot({'GeneA':df1, 'GeneB':df2, 'ORF':df3}) #NOT CURRENTLY FUNCTIONING"
   ]
  },
  {
   "cell_type": "markdown",
   "metadata": {
    "collapsed": true
   },
   "source": [
    "# Venn Diagram"
   ]
  },
  {
   "cell_type": "code",
   "execution_count": 10,
   "metadata": {
    "collapsed": false
   },
   "outputs": [
    {
     "ename": "NameError",
     "evalue": "name 'venn3' is not defined",
     "output_type": "error",
     "traceback": [
      "\u001b[0;31m---------------------------------------------------------------------------\u001b[0m",
      "\u001b[0;31mNameError\u001b[0m                                 Traceback (most recent call last)",
      "\u001b[0;32m<ipython-input-10-97538d256ac7>\u001b[0m in \u001b[0;36m<module>\u001b[0;34m()\u001b[0m\n\u001b[1;32m      3\u001b[0m \u001b[0muniqueORF\u001b[0m \u001b[0;34m=\u001b[0m \u001b[0mset\u001b[0m\u001b[0;34m(\u001b[0m\u001b[0muniqueORF\u001b[0m\u001b[0;34m)\u001b[0m\u001b[0;34m\u001b[0m\u001b[0m\n\u001b[1;32m      4\u001b[0m \u001b[0;34m\u001b[0m\u001b[0m\n\u001b[0;32m----> 5\u001b[0;31m \u001b[0mvenn3\u001b[0m\u001b[0;34m(\u001b[0m\u001b[0;34m[\u001b[0m\u001b[0muniqueGeneA\u001b[0m\u001b[0;34m,\u001b[0m \u001b[0muniqueGeneB\u001b[0m\u001b[0;34m,\u001b[0m \u001b[0muniqueORF\u001b[0m\u001b[0;34m]\u001b[0m\u001b[0;34m,\u001b[0m \u001b[0;34m(\u001b[0m\u001b[0;34m'GeneA'\u001b[0m\u001b[0;34m,\u001b[0m \u001b[0;34m'GeneB'\u001b[0m\u001b[0;34m,\u001b[0m \u001b[0;34m'ORF'\u001b[0m\u001b[0;34m)\u001b[0m\u001b[0;34m)\u001b[0m \u001b[0;31m#NOT CURRENTLY FUNCTIONING\u001b[0m\u001b[0;34m\u001b[0m\u001b[0m\n\u001b[0m",
      "\u001b[0;31mNameError\u001b[0m: name 'venn3' is not defined"
     ]
    }
   ],
   "source": [
    "uniqueGeneA = set(uniqueGeneA)\n",
    "uniqueGeneB = set(uniqueGeneB)\n",
    "uniqueORF = set(uniqueORF)\n",
    "\n",
    "venn3([uniqueGeneA, uniqueGeneB, uniqueORF], ('GeneA', 'GeneB', 'ORF')) #NOT CURRENTLY FUNCTIONING"
   ]
  },
  {
   "cell_type": "code",
   "execution_count": null,
   "metadata": {
    "collapsed": true
   },
   "outputs": [],
   "source": []
  }
 ],
 "metadata": {
  "anaconda-cloud": {},
  "kernelspec": {
   "display_name": "Python 2",
   "language": "python",
   "name": "python2"
  },
  "language_info": {
   "codemirror_mode": {
    "name": "ipython",
    "version": 2
   },
   "file_extension": ".py",
   "mimetype": "text/x-python",
   "name": "python",
   "nbconvert_exporter": "python",
   "pygments_lexer": "ipython2",
   "version": "2.7.13"
  }
 },
 "nbformat": 4,
 "nbformat_minor": 0
}
