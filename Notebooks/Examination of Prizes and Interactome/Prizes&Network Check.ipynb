{
 "cells": [
  {
   "cell_type": "markdown",
   "metadata": {},
   "source": [
    "Creates a file with all of the unique genes in the input files. Also, creates a list of the proteins that are only phosphorylated but not in the interactome."
   ]
  },
  {
   "cell_type": "markdown",
   "metadata": {},
   "source": [
    "# Import files and libraries"
   ]
  },
  {
   "cell_type": "code",
   "execution_count": 18,
   "metadata": {
    "collapsed": false
   },
   "outputs": [
    {
     "name": "stdout",
     "output_type": "stream",
     "text": [
      "Populating the interactive namespace from numpy and matplotlib\n"
     ]
    },
    {
     "name": "stderr",
     "output_type": "stream",
     "text": [
      "WARNING: pylab import has clobbered these variables: ['f']\n",
      "`%matplotlib` prevents importing * from pylab and numpy\n"
     ]
    }
   ],
   "source": [
    "%pylab inline\n",
    "import pyupset as pyu\n",
    "import pandas as pd\n",
    "import matplotlib_venn as mv\n",
    "\n",
    "#r-escapes the whole string\n",
    "networkInter = r'Z:\\Yeast\\ChasmanNetwork-DirUndir.txt'\n",
    "prizes = r'Z:\\Yeast\\prizes\\prizes.txt'\n",
    "\n",
    "dfNetwork = pd.read_csv(networkInter, sep = '\\t', names = [\"GeneA\", \"GeneB\", \"Weight\", \"Direction\"])\n",
    "dfPrizes = pd.read_csv(prizes, sep = '\\t', names = [\"ORF\", \"Fold\"])"
   ]
  },
  {
   "cell_type": "code",
   "execution_count": 19,
   "metadata": {
    "collapsed": false
   },
   "outputs": [
    {
     "name": "stdout",
     "output_type": "stream",
     "text": [
      "        GeneA    GeneB  Weight Direction\n",
      "0     YCL032W  YLR006C     0.5         D\n",
      "1     YCL032W  YNR031C     0.5         D\n",
      "2     YCL032W  YJL128C     0.5         D\n",
      "3     YNR031C  YJL128C     0.5         D\n",
      "4     YJL128C  YLR113W     0.5         D\n",
      "5     YAL040C  YMR037C     0.5         D\n",
      "6     YJL164C  YMR037C     0.5         D\n",
      "7     YOR360C  YJL164C     0.5         D\n",
      "8     YOR360C  YPL203W     0.5         D\n",
      "9     YOR360C  YKL166C     0.5         D\n",
      "10    YER177W  YMR037C     0.5         D\n",
      "11    YER177W  YKL062W     0.5         D\n",
      "12    YDR099W  YMR037C     0.5         D\n",
      "13    YDR099W  YKL062W     0.5         D\n",
      "14    YLR362W  YJL128C     0.5         D\n",
      "15    YBR140C  YNL098C     0.5         D\n",
      "16    YAL056W  YHR005C     0.5         D\n",
      "17    YEL062W  YJR066W     0.5         D\n",
      "18    YHL023C  YJR066W     0.5         D\n",
      "19    YJR066W  YHR205W     0.5         D\n",
      "20    YJL141C  YIL033C     0.5         D\n",
      "21    YKL166C  YJL141C     0.5         D\n",
      "22    YHR135C  YDR011W     0.5         D\n",
      "23    YOL113W  YMR210W     0.5         D\n",
      "24    YMR158W   cyc263     0.5         D\n",
      "25    YPL031C  YFR036W     0.5         D\n",
      "26    YBR160W  YJL092W     0.5         D\n",
      "27    YNL307C  YJL194W     0.5         D\n",
      "28    YDL191W   cyc246     0.5         D\n",
      "29    YPL045W   cyc404     0.5         D\n",
      "...       ...      ...     ...       ...\n",
      "7586  YDR420W  YHR154W     0.5         U\n",
      "7587  YGL209W  YGR014W     0.5         U\n",
      "7588  YGL035C  YGR014W     0.5         U\n",
      "7589  YGR014W  YLR229C     0.5         U\n",
      "7590  YER118C  YGR014W     0.5         U\n",
      "7591  YER118C  YJL128C     0.5         U\n",
      "7592  YER118C  YNL152W     0.5         U\n",
      "7593  YDL117W  YER118C     0.5         U\n",
      "7594  YER118C  YOR208W     0.5         U\n",
      "7595  YCL027W  YER118C     0.5         U\n",
      "7596  YBR023C  YER118C     0.5         U\n",
      "7597  YER118C  YER118C     0.5         U\n",
      "7598  YER118C  YLR452C     0.5         U\n",
      "7599  YER118C  YPR032W     0.5         U\n",
      "7600  YER118C  YLR353W     0.5         U\n",
      "7601  YER118C  YMR032W     0.5         U\n",
      "7602  YER118C  YOR188W     0.5         U\n",
      "7603  YCL032W  YER118C     0.5         U\n",
      "7604  YAL041W  YER118C     0.5         U\n",
      "7605  YER118C  YOR181W     0.5         U\n",
      "7606  YER118C  YLR362W     0.5         U\n",
      "7607  YDL235C  YIL147C     0.5         U\n",
      "7608  YDR388W  YIL147C     0.5         U\n",
      "7609  YIL147C  YJR074W     0.5         U\n",
      "7610  YHR206W  YIL147C     0.5         U\n",
      "7611  YIL147C  YIR004W     0.5         U\n",
      "7612  YJL123C  YPR075C     0.5         U\n",
      "7613  YCL032W  YPR075C     0.5         U\n",
      "7614  YGL209W  YPR075C     0.5         U\n",
      "7615  YGL035C  YPR075C     0.5         U\n",
      "\n",
      "[7616 rows x 4 columns]\n",
      "          ORF      Fold\n",
      "0     YAL001C  0.492110\n",
      "1     YAL003W  0.260869\n",
      "2     YAL005C  0.166587\n",
      "3     YAL011W  0.316115\n",
      "4     YAL013W  0.341044\n",
      "5     YAL016W  0.423740\n",
      "6     YAL017W  0.147046\n",
      "7     YAL019W  0.280362\n",
      "8     YAL021C  0.147394\n",
      "9     YAL022C  0.494780\n",
      "10    YAL023C  0.281431\n",
      "11    YAL024C  0.890252\n",
      "12    YAL025C  0.047696\n",
      "13    YAL026C  1.370490\n",
      "14    YAL029C  0.127778\n",
      "15    YAL031C  0.872001\n",
      "16    YAL035W  1.910963\n",
      "17    YAL038W  1.714065\n",
      "18    YAL041W  0.654894\n",
      "19    YAL043C  0.367595\n",
      "20    YAL047C  0.731531\n",
      "21    YAL051W  0.145482\n",
      "22    YAL053W  0.589615\n",
      "23    YAL056W  0.369147\n",
      "24    YAR002W  0.521639\n",
      "25    YAR007C  0.093894\n",
      "26    YAR014C  2.977895\n",
      "27    YAR019C  0.132167\n",
      "28    YAR042W  0.501617\n",
      "29    YBL002W  0.238221\n",
      "...       ...       ...\n",
      "1566  YPR089W  0.138346\n",
      "1567  YPR091C  1.827666\n",
      "1568  YPR095C  1.746132\n",
      "1569  YPR104C  0.381141\n",
      "1570  YPR105C  0.228571\n",
      "1571  YPR108W  0.127501\n",
      "1572  YPR111W  0.278698\n",
      "1573  YPR112C  0.170069\n",
      "1574  YPR115W  2.208828\n",
      "1575  YPR133C  0.609566\n",
      "1576  YPR135W  0.326077\n",
      "1577  YPR141C  0.167912\n",
      "1578  YPR143W  0.108845\n",
      "1579  YPR148C  0.405557\n",
      "1580  YPR149W  0.106498\n",
      "1581  YPR156C  0.727616\n",
      "1582  YPR159W  0.373664\n",
      "1583  YPR160W  0.368793\n",
      "1584  YPR161C  0.251810\n",
      "1585  YPR162C  0.277342\n",
      "1586  YPR163C  0.693587\n",
      "1587  YPR164W  1.224040\n",
      "1588  YPR171W  0.235348\n",
      "1589  YPR173C  0.277152\n",
      "1590  YPR174C  0.430801\n",
      "1591  YPR181C  0.765365\n",
      "1592  YPR184W  0.371404\n",
      "1593  YPR185W  1.404535\n",
      "1594  YPR186C  0.362714\n",
      "1595  YPR190C  0.523662\n",
      "\n",
      "[1596 rows x 2 columns]\n"
     ]
    }
   ],
   "source": [
    "print dfNetwork\n",
    "print dfPrizes"
   ]
  },
  {
   "cell_type": "markdown",
   "metadata": {},
   "source": [
    "# Drop unnecessary columns"
   ]
  },
  {
   "cell_type": "code",
   "execution_count": 20,
   "metadata": {
    "collapsed": false
   },
   "outputs": [
    {
     "name": "stdout",
     "output_type": "stream",
     "text": [
      "        GeneA    GeneB\n",
      "0     YCL032W  YLR006C\n",
      "1     YCL032W  YNR031C\n",
      "2     YCL032W  YJL128C\n",
      "3     YNR031C  YJL128C\n",
      "4     YJL128C  YLR113W\n",
      "5     YAL040C  YMR037C\n",
      "6     YJL164C  YMR037C\n",
      "7     YOR360C  YJL164C\n",
      "8     YOR360C  YPL203W\n",
      "9     YOR360C  YKL166C\n",
      "10    YER177W  YMR037C\n",
      "11    YER177W  YKL062W\n",
      "12    YDR099W  YMR037C\n",
      "13    YDR099W  YKL062W\n",
      "14    YLR362W  YJL128C\n",
      "15    YBR140C  YNL098C\n",
      "16    YAL056W  YHR005C\n",
      "17    YEL062W  YJR066W\n",
      "18    YHL023C  YJR066W\n",
      "19    YJR066W  YHR205W\n",
      "20    YJL141C  YIL033C\n",
      "21    YKL166C  YJL141C\n",
      "22    YHR135C  YDR011W\n",
      "23    YOL113W  YMR210W\n",
      "24    YMR158W   cyc263\n",
      "25    YPL031C  YFR036W\n",
      "26    YBR160W  YJL092W\n",
      "27    YNL307C  YJL194W\n",
      "28    YDL191W   cyc246\n",
      "29    YPL045W   cyc404\n",
      "...       ...      ...\n",
      "7586  YDR420W  YHR154W\n",
      "7587  YGL209W  YGR014W\n",
      "7588  YGL035C  YGR014W\n",
      "7589  YGR014W  YLR229C\n",
      "7590  YER118C  YGR014W\n",
      "7591  YER118C  YJL128C\n",
      "7592  YER118C  YNL152W\n",
      "7593  YDL117W  YER118C\n",
      "7594  YER118C  YOR208W\n",
      "7595  YCL027W  YER118C\n",
      "7596  YBR023C  YER118C\n",
      "7597  YER118C  YER118C\n",
      "7598  YER118C  YLR452C\n",
      "7599  YER118C  YPR032W\n",
      "7600  YER118C  YLR353W\n",
      "7601  YER118C  YMR032W\n",
      "7602  YER118C  YOR188W\n",
      "7603  YCL032W  YER118C\n",
      "7604  YAL041W  YER118C\n",
      "7605  YER118C  YOR181W\n",
      "7606  YER118C  YLR362W\n",
      "7607  YDL235C  YIL147C\n",
      "7608  YDR388W  YIL147C\n",
      "7609  YIL147C  YJR074W\n",
      "7610  YHR206W  YIL147C\n",
      "7611  YIL147C  YIR004W\n",
      "7612  YJL123C  YPR075C\n",
      "7613  YCL032W  YPR075C\n",
      "7614  YGL209W  YPR075C\n",
      "7615  YGL035C  YPR075C\n",
      "\n",
      "[7616 rows x 2 columns]\n",
      "          ORF\n",
      "0     YAL001C\n",
      "1     YAL003W\n",
      "2     YAL005C\n",
      "3     YAL011W\n",
      "4     YAL013W\n",
      "5     YAL016W\n",
      "6     YAL017W\n",
      "7     YAL019W\n",
      "8     YAL021C\n",
      "9     YAL022C\n",
      "10    YAL023C\n",
      "11    YAL024C\n",
      "12    YAL025C\n",
      "13    YAL026C\n",
      "14    YAL029C\n",
      "15    YAL031C\n",
      "16    YAL035W\n",
      "17    YAL038W\n",
      "18    YAL041W\n",
      "19    YAL043C\n",
      "20    YAL047C\n",
      "21    YAL051W\n",
      "22    YAL053W\n",
      "23    YAL056W\n",
      "24    YAR002W\n",
      "25    YAR007C\n",
      "26    YAR014C\n",
      "27    YAR019C\n",
      "28    YAR042W\n",
      "29    YBL002W\n",
      "...       ...\n",
      "1566  YPR089W\n",
      "1567  YPR091C\n",
      "1568  YPR095C\n",
      "1569  YPR104C\n",
      "1570  YPR105C\n",
      "1571  YPR108W\n",
      "1572  YPR111W\n",
      "1573  YPR112C\n",
      "1574  YPR115W\n",
      "1575  YPR133C\n",
      "1576  YPR135W\n",
      "1577  YPR141C\n",
      "1578  YPR143W\n",
      "1579  YPR148C\n",
      "1580  YPR149W\n",
      "1581  YPR156C\n",
      "1582  YPR159W\n",
      "1583  YPR160W\n",
      "1584  YPR161C\n",
      "1585  YPR162C\n",
      "1586  YPR163C\n",
      "1587  YPR164W\n",
      "1588  YPR171W\n",
      "1589  YPR173C\n",
      "1590  YPR174C\n",
      "1591  YPR181C\n",
      "1592  YPR184W\n",
      "1593  YPR185W\n",
      "1594  YPR186C\n",
      "1595  YPR190C\n",
      "\n",
      "[1596 rows x 1 columns]\n"
     ]
    }
   ],
   "source": [
    "dfNetwork.drop('Weight', axis=1, inplace=True)\n",
    "dfNetwork.drop('Direction', axis = 1, inplace = True)\n",
    "dfPrizes.drop('Fold', axis=1, inplace=True)\n",
    "print dfNetwork\n",
    "print dfPrizes"
   ]
  },
  {
   "cell_type": "markdown",
   "metadata": {},
   "source": [
    "# Find unique values"
   ]
  },
  {
   "cell_type": "code",
   "execution_count": 21,
   "metadata": {
    "collapsed": false
   },
   "outputs": [],
   "source": [
    "uniqueGeneA = dfNetwork.GeneA.unique()\n",
    "uniqueGeneB = dfNetwork.GeneB.unique()\n",
    "uniqueORF = dfPrizes.ORF.unique()"
   ]
  },
  {
   "cell_type": "markdown",
   "metadata": {},
   "source": [
    "# Sort those unique values"
   ]
  },
  {
   "cell_type": "code",
   "execution_count": 22,
   "metadata": {
    "collapsed": false
   },
   "outputs": [],
   "source": [
    "uniqueGeneA.sort()\n",
    "uniqueGeneB.sort()\n",
    "uniqueORF.sort()"
   ]
  },
  {
   "cell_type": "markdown",
   "metadata": {},
   "source": [
    "# Output to text files"
   ]
  },
  {
   "cell_type": "code",
   "execution_count": 23,
   "metadata": {
    "collapsed": false
   },
   "outputs": [],
   "source": [
    "f=open('uniqueORF.txt','w')\n",
    "for ORF in uniqueORF:\n",
    "    f.write(ORF+'\\n')\n",
    "\n",
    "f.close()"
   ]
  },
  {
   "cell_type": "code",
   "execution_count": 24,
   "metadata": {
    "collapsed": false
   },
   "outputs": [],
   "source": [
    "f=open('uniqueGeneA.txt','w')\n",
    "for gene in uniqueGeneA:\n",
    "    f.write(gene+'\\n')\n",
    "\n",
    "f.close()"
   ]
  },
  {
   "cell_type": "code",
   "execution_count": 25,
   "metadata": {
    "collapsed": false
   },
   "outputs": [],
   "source": [
    "f=open('uniqueGeneB.txt','w')\n",
    "for gene in uniqueGeneB:\n",
    "    f.write(gene+'\\n')\n",
    "\n",
    "f.close()"
   ]
  },
  {
   "cell_type": "code",
   "execution_count": 26,
   "metadata": {
    "collapsed": false
   },
   "outputs": [
    {
     "name": "stdout",
     "output_type": "stream",
     "text": [
      "1900\n",
      "2272\n",
      "1596\n"
     ]
    }
   ],
   "source": [
    "print len(uniqueGeneA)\n",
    "print len(uniqueGeneB)\n",
    "print len(uniqueORF)\n"
   ]
  },
  {
   "cell_type": "markdown",
   "metadata": {},
   "source": [
    "# Create venn diagram"
   ]
  },
  {
   "cell_type": "code",
   "execution_count": 27,
   "metadata": {
    "collapsed": false
   },
   "outputs": [
    {
     "data": {
      "text/plain": [
       "{'additional': [],\n",
       " 'base_set_size': <matplotlib.axes._subplots.AxesSubplot at 0x8d15be0>,\n",
       " 'figure': <matplotlib.figure.Figure at 0x93ca518>,\n",
       " 'intersection_bars': <matplotlib.axes._subplots.AxesSubplot at 0x968c6d8>,\n",
       " 'intersection_matrix': <matplotlib.axes._subplots.AxesSubplot at 0x979b860>,\n",
       " 'names': <matplotlib.axes._subplots.AxesSubplot at 0x9993e48>}"
      ]
     },
     "execution_count": 27,
     "metadata": {},
     "output_type": "execute_result"
    },
    {
     "data": {
      "image/png": "[encoded data removed]",
      "text/plain": [
       "<matplotlib.figure.Figure at 0x93ca518>"
      ]
     },
     "metadata": {},
     "output_type": "display_data"
    }
   ],
   "source": [
    "df1 = pd.DataFrame(data = uniqueGeneA, columns=['Items'])\n",
    "df2 = pd.DataFrame(data = uniqueGeneB, columns=['Items'])\n",
    "df3 = pd.DataFrame(data = uniqueORF, columns=['Items'])\n",
    "\n",
    "pyu.plot({'GeneA':df1, 'GeneB':df2, 'ORF':df3})"
   ]
  },
  {
   "cell_type": "code",
   "execution_count": 33,
   "metadata": {
    "collapsed": false
   },
   "outputs": [],
   "source": [
    "proteinsOnlyPhospho = list(set(uniqueORF) - (set(uniqueGeneA).union(set(uniqueGeneB))))"
   ]
  },
  {
   "cell_type": "code",
   "execution_count": 34,
   "metadata": {
    "collapsed": false
   },
   "outputs": [
    {
     "name": "stdout",
     "output_type": "stream",
     "text": [
      "496\n",
      "1596\n"
     ]
    }
   ],
   "source": [
    "print len(proteinsOnlyPhospho)\n",
    "print len(uniqueORF)"
   ]
  },
  {
   "cell_type": "code",
   "execution_count": 37,
   "metadata": {
    "collapsed": true
   },
   "outputs": [],
   "source": [
    "f=open('proteinsNotInNetwork.txt','w')\n",
    "for protein in proteinsOnlyPhospho:\n",
    "    f.write(protein+'\\n')\n",
    "\n",
    "f.close()"
   ]
  },
  {
   "cell_type": "code",
   "execution_count": null,
   "metadata": {
    "collapsed": true
   },
   "outputs": [],
   "source": []
  }
 ],
 "metadata": {
  "anaconda-cloud": {},
  "kernelspec": {
   "display_name": "Python [default]",
   "language": "python",
   "name": "python2"
  },
  "language_info": {
   "codemirror_mode": {
    "name": "ipython",
    "version": 2
   },
   "file_extension": ".py",
   "mimetype": "text/x-python",
   "name": "python",
   "nbconvert_exporter": "python",
   "pygments_lexer": "ipython2",
   "version": "2.7.12"
  }
 },
 "nbformat": 4,
 "nbformat_minor": 0
}
