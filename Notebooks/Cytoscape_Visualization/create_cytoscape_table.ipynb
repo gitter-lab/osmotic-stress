{
 "cells": [
  {
   "cell_type": "markdown",
   "metadata": {},
   "source": [
    "# Combine multiple protein and peptide annotations to create a single annotation for Cytoscape - April 4, 2017"
   ]
  },
  {
   "cell_type": "markdown",
   "metadata": {},
   "source": [
    "Use the TPS input and output.\n",
    "\n",
    "**Need to add default values for missing data**\n",
    "\n",
    "**Need to validate the output and add assert statements**"
   ]
  },
  {
   "cell_type": "markdown",
   "metadata": {},
   "source": [
    "## Set up file locations"
   ]
  },
  {
   "cell_type": "code",
   "execution_count": 1,
   "metadata": {
    "collapsed": false
   },
   "outputs": [
    {
     "name": "stdout",
     "output_type": "stream",
     "text": [
      "Populating the interactive namespace from numpy and matplotlib\n"
     ]
    }
   ],
   "source": [
    "% pylab inline\n",
    "\n",
    "import os\n",
    "import util\n",
    "import pandas as pd\n",
    "\n",
    "baseDir = os.path.join('..','..')\n",
    "tps_in_dir = os.path.join(baseDir, 'Notebooks', 'ApplyThresholds')\n",
    "tps_out_dir = os.path.join(baseDir, 'Results', 'TPS output', 'TPS_2-19-2017')\n",
    "\n",
    "# Use the version with the header line\n",
    "pepMapFile = os.path.join(tps_in_dir, 'peptideMapHeader.tsv')\n",
    "pepFirstFile = os.path.join(tps_in_dir, 'firstScores.tsv')\n",
    "pepPrevFile = os.path.join(tps_in_dir, 'prevScores.tsv')\n",
    "timeSeriesFile = os.path.join(tps_in_dir, 'timeSeries.tsv')\n",
    "\n",
    "windowsFile = os.path.join(tps_out_dir, 'activity-windows.tsv')\n",
    "networkFile = os.path.join(tps_out_dir, 'output.sif')\n",
    "\n",
    "# Use the Kitano 2016 pathway as the gold standard\n",
    "goldStandardFile = os.path.join(baseDir, 'data', 'evaluation', 'Kitano2016_ORFs.txt')\n",
    "\n",
    "styleTemplateFile = 'tps_style_template.xml'\n",
    "\n",
    "out_dir = '.'\n",
    "outFile = os.path.join(out_dir, 'kanshin2015-cytoscape-annotations.txt')\n",
    "outStyleFile = os.path.join(out_dir, 'tps_style.xml')"
   ]
  },
  {
   "cell_type": "markdown",
   "metadata": {},
   "source": [
    "## Call the function to load the temporal data and gold standard annotations and merge them into a Cytoscape-readable format"
   ]
  },
  {
   "cell_type": "code",
   "execution_count": 2,
   "metadata": {
    "collapsed": false
   },
   "outputs": [
    {
     "name": "stdout",
     "output_type": "stream",
     "text": [
      "Loaded protein id map for 4337 peptides\n",
      "Loaded 4337 peptides and 12 scores in the first and previous score files\n",
      "Loaded prizes for 4337 peptides\n",
      "2328 peptides with significant prizes (>= 2)\n",
      "['-0.0414319732335', '0.014212444812104711', '0.06460697529739193', '0.13224779829843977', '0.13119435170845012', '0.06419306192749237', '-0.13460373753535176', '0.025170575734906053', '0.08270258933024935', '0.16169423543613154', '-0.11348887132475236', '0.09342495941910292', '-0.07123932561939318']\n",
      "['-0.00452271722862', '-0.020311184989869394', '0.02233230009805639', '0.002594516708452323', '0.031818625826357146', '0.006908369342177494', '0.05172011644732763', '0.02375213589899498', '0.03365205248999707', '0.005184375859723258', '0.0600473836699389', '0.033792988849303096', '0.02375213589899498']\n",
      "['-0.0951883824741', '-0.03922142339575775', '-0.043705396895833915', '-0.0421151096788827', '-0.07733021248373827', '-0.0671828972581494', '-0.13541169050387866', '-0.14617996124757043', '-0.1349997363742636', '-0.1922494215615755', '-0.12940249507524976', '-0.22485672434345896', '-0.22634118688963836']\n",
      "['-0.0547968474707', '0.09855430722072946', '0.041943829970167254', '-0.10541114629992052', '0.02076886509457185', '-0.03463311853545097', '-0.0044793011362617', '-0.13458789984244715', '0.08488065359129648', '-0.04495507609863145', '-0.07523119349836357', '-0.07626511105097197', '-0.08219401356428695']\n",
      "['-0.113488871325', '-0.10068513489404705', '-0.020018584688519837', '-0.034352373884436974', '-0.08112531659528048', '-0.165159364036551', '-0.046056881539725446', '-0.0039005447185556344', '0.08038478741460453', '-0.11752128051669518', '0.061983516108957325', '-0.023255117862377873', '-0.0052609907714716644']\n",
      "['-0.0930786272256', '-0.05793221281612325', '-0.013072153713723169', '0.058247216854662685', '-0.06262547354222107', '0.0184917490398792', '0.06860202737867153', '-0.005898236367785308', '-0.206628450861815', '0.06942721045601417', '0.08651204657428184', '-0.2358746911614339', '']\n"
     ]
    },
    {
     "ename": "ValueError",
     "evalue": "could not convert string to float: ",
     "output_type": "error",
     "traceback": [
      "\u001b[1;31m---------------------------------------------------------------------------\u001b[0m",
      "\u001b[1;31mValueError\u001b[0m                                Traceback (most recent call last)",
      "\u001b[1;32m<ipython-input-2-8326c109a210>\u001b[0m in \u001b[0;36m<module>\u001b[1;34m()\u001b[0m\n\u001b[0;32m      4\u001b[0m                              \u001b[0mpepPrevFile\u001b[0m\u001b[1;33m,\u001b[0m \u001b[0mwindowsFile\u001b[0m\u001b[1;33m,\u001b[0m \u001b[0mnetworkFile\u001b[0m\u001b[1;33m,\u001b[0m\u001b[1;33m\u001b[0m\u001b[0m\n\u001b[0;32m      5\u001b[0m                              \u001b[0mgoldStandardFile\u001b[0m\u001b[1;33m,\u001b[0m \u001b[0mpvalThresh\u001b[0m\u001b[1;33m,\u001b[0m \u001b[0mlogTransform\u001b[0m\u001b[1;33m,\u001b[0m \u001b[0mstyleTemplateFile\u001b[0m\u001b[1;33m,\u001b[0m\u001b[1;33m\u001b[0m\u001b[0m\n\u001b[1;32m----> 6\u001b[1;33m                              outFile, outStyleFile) # don't provide logDefault or addZero\n\u001b[0m",
      "\u001b[1;32mC:\\Users\\agitter\\Desktop\\bmiToSave\\outreach\\IBS-SRP2016\\dylan\\osmotic-stress\\Notebooks\\Cytoscape_Visualization\\util.py\u001b[0m in \u001b[0;36mPrepTemporalCytoscapeTPS\u001b[1;34m(peptideMapFile, timeSeriesFile, peptideFirstScoreFile, peptidePrevScoreFile, windowsFile, networkFile, goldStandardFile, pvalThresh, logTransform, styleTemplateFile, outAnnotFile, outStyleFile, logDefault, addZero)\u001b[0m\n\u001b[0;32m    116\u001b[0m             \u001b[1;32melse\u001b[0m\u001b[1;33m:\u001b[0m\u001b[1;33m\u001b[0m\u001b[0m\n\u001b[0;32m    117\u001b[0m                 \u001b[1;32mprint\u001b[0m \u001b[0mparts\u001b[0m\u001b[1;33m[\u001b[0m\u001b[1;36m1\u001b[0m\u001b[1;33m:\u001b[0m\u001b[1;33m]\u001b[0m\u001b[1;33m\u001b[0m\u001b[0m\n\u001b[1;32m--> 118\u001b[1;33m                 \u001b[0mtimeSeries\u001b[0m \u001b[1;33m=\u001b[0m \u001b[0mmap\u001b[0m\u001b[1;33m(\u001b[0m\u001b[0mfloat\u001b[0m\u001b[1;33m,\u001b[0m\u001b[0mparts\u001b[0m\u001b[1;33m[\u001b[0m\u001b[1;36m1\u001b[0m\u001b[1;33m:\u001b[0m\u001b[1;33m]\u001b[0m\u001b[1;33m)\u001b[0m\u001b[1;33m\u001b[0m\u001b[0m\n\u001b[0m\u001b[0;32m    119\u001b[0m             \u001b[0mtimeSeriesMin\u001b[0m \u001b[1;33m=\u001b[0m \u001b[0mmin\u001b[0m\u001b[1;33m(\u001b[0m\u001b[0mtimeSeriesMin\u001b[0m\u001b[1;33m,\u001b[0m \u001b[0mmin\u001b[0m\u001b[1;33m(\u001b[0m\u001b[0mtimeSeries\u001b[0m\u001b[1;33m)\u001b[0m\u001b[1;33m)\u001b[0m\u001b[1;33m\u001b[0m\u001b[0m\n\u001b[0;32m    120\u001b[0m             \u001b[0mtimeSeriesMax\u001b[0m \u001b[1;33m=\u001b[0m \u001b[0mmax\u001b[0m\u001b[1;33m(\u001b[0m\u001b[0mtimeSeriesMax\u001b[0m\u001b[1;33m,\u001b[0m \u001b[0mmax\u001b[0m\u001b[1;33m(\u001b[0m\u001b[0mtimeSeries\u001b[0m\u001b[1;33m)\u001b[0m\u001b[1;33m)\u001b[0m\u001b[1;33m\u001b[0m\u001b[0m\n",
      "\u001b[1;31mValueError\u001b[0m: could not convert string to float: "
     ]
    }
   ],
   "source": [
    "pvalThresh = 0.01 # Same threhsold used in TPS but it doesn't matter with binary \"p-values\"\n",
    "logTransform = False\n",
    "pepsPerProt = util.PrepTemporalCytoscapeTPS(pepMapFile, timeSeriesFile, pepFirstFile,\n",
    "                             pepPrevFile, windowsFile, networkFile,\n",
    "                             goldStandardFile, pvalThresh, logTransform, styleTemplateFile,\n",
    "                             outFile, outStyleFile) # don't provide logDefault or addZero"
   ]
  },
  {
   "cell_type": "markdown",
   "metadata": {},
   "source": [
    "## Plot the number of peptides per protein"
   ]
  },
  {
   "cell_type": "code",
   "execution_count": null,
   "metadata": {
    "collapsed": false
   },
   "outputs": [],
   "source": [
    "hist(pepsPerProt)\n",
    "for count in range(1,max(pepsPerProt)+1):\n",
    "    print \"%d proteins with %d peptide(s)\" % (sum([x == count for x in pepsPerProt]), count)"
   ]
  },
  {
   "cell_type": "markdown",
   "metadata": {
    "collapsed": true
   },
   "source": [
    "## Test parts of the Cytoscape table\n",
    "\n",
    "**Update for yeast data**"
   ]
  },
  {
   "cell_type": "code",
   "execution_count": null,
   "metadata": {
    "collapsed": false
   },
   "outputs": [],
   "source": [
    "cytoDf = pd.read_csv(outFile, sep='\\t')\n",
    "cytoDf.head()"
   ]
  },
  {
   "cell_type": "code",
   "execution_count": null,
   "metadata": {
    "collapsed": false
   },
   "outputs": [],
   "source": [
    "# Verify that all TPS nodes are in the annotation file\n",
    "tpsNodes = set()\n",
    "with open(networkFile) as net_f:\n",
    "    for line in net_f:\n",
    "        parts = line.strip().split('\\t')\n",
    "        tpsNodes.add(parts[0])\n",
    "        tpsNodes.add(parts[2])\n",
    "\n",
    "subsetDf = cytoDf[cytoDf['NodeType'] != 'Excluded']\n",
    "subsetNodes = set(subsetDf['Protein'].values)\n",
    "assert tpsNodes == subsetNodes\n",
    "print 'All TPS nodes are in the annotation file'\n",
    "\n",
    "# Verify all proteins that have peptides listed in the annotation file\n",
    "# are in the peptide-protein mapping.  The peptide-protein mapping\n",
    "# contains proteins from any of the three replicates though, whereas the\n",
    "# annotation file only contains those in all three.\n",
    "prizeNodes = set()\n",
    "with open(pepMapFile) as prize_f:\n",
    "    # Skip the header\n",
    "    prize_f.next()\n",
    "    for line in prize_f:\n",
    "        parts = line.strip().split('\\t')\n",
    "        prizeNodes.add(parts[1])\n",
    "# All proteins in the annotation file with a significant or insignificant peptide\n",
    "subsetNodes = set(cytoDf.loc[cytoDf['SigPeptide1'].notnull() | cytoDf['InsigPeptide1'].notnull(), 'Protein'].values)\n",
    "assert len(subsetNodes) == 701\n",
    "assert subsetNodes.issubset(prizeNodes)\n",
    "print 'All annotation file proteins are in the peptide mapping file'\n",
    "\n",
    "# Verify all nodes in the annotation file are from the TPS network or the prize nodes\n",
    "allNodes = set()\n",
    "allNodes.update(tpsNodes)\n",
    "allNodes.update(prizeNodes)\n",
    "subsetNodes = set(cytoDf['Protein'].values)\n",
    "assert subsetNodes.issubset(allNodes)\n",
    "print 'All nodes in the annotation file are from TPS or the prize nodes'\n",
    "\n",
    "# Verify the reference pathway overlap matches what was observed previously\n",
    "assert len(cytoDf[cytoDf['ReferencePathway'] & (cytoDf['NodeType'] != 'Excluded')]) == 34\n",
    "print 'All nodes in the TPS pathway and EGFR reference pathways are in the annotation file'\n",
    "\n",
    "# Verify first activity times\n",
    "assert cytoDf.loc[cytoDf['Protein'] == 'DYR1B_HUMAN', 'FirstActive'].values == '128min'\n",
    "assert cytoDf.loc[cytoDf['Protein'] == 'ARHG7_HUMAN', 'FirstActive'].values == '32min'\n",
    "assert len(cytoDf[cytoDf['FirstActive'] == '2min']) == 189\n",
    "assert len(cytoDf[cytoDf['FirstActive'] == '64min']) == 8\n",
    "assert len(cytoDf[cytoDf['FirstActive'] == 'Not active']) == 428\n",
    "print 'Nodes in annotation file have expected first activity time'\n",
    "\n",
    "# Verify all excluded nodes have no first activity time\n",
    "assert np.all((cytoDf['NodeType'] == 'Excluded') == (cytoDf['FirstActive'] == 'Not active'))\n",
    "print 'All excluded nodes have no activity time and vice versa'\n",
    "\n",
    "# Verify that these proteins have the expected number of significant and insignificant peptides\n",
    "assert sum(cytoDf.loc[cytoDf['Protein'] == 'EGFR_HUMAN', 'SigPeptide1':'SigPeptide6'].notnull().values) == 6\n",
    "assert sum(cytoDf.loc[cytoDf['Protein'] == 'EGFR_HUMAN', 'InsigPeptide1':'InsigPeptide10'].notnull().values) == 2\n",
    "\n",
    "assert sum(cytoDf.loc[cytoDf['Protein'] == 'NUCKS_HUMAN', 'SigPeptide1':'SigPeptide6'].notnull().values) == 2\n",
    "assert sum(cytoDf.loc[cytoDf['Protein'] == 'NUCKS_HUMAN', 'InsigPeptide1':'InsigPeptide10'].notnull().values) == 10\n",
    "\n",
    "assert sum(cytoDf.loc[cytoDf['Protein'] == 'CBL_HUMAN', 'SigPeptide1':'SigPeptide6'].notnull().values) == 3\n",
    "assert sum(cytoDf.loc[cytoDf['Protein'] == 'CBL_HUMAN', 'InsigPeptide1':'InsigPeptide10'].notnull().values) == 2\n",
    "print 'Proteins have expected number of peptides'\n",
    "\n",
    "def MinLogFC(row):\n",
    "    fcs = []\n",
    "    for timeSeries in row:\n",
    "        if not str(timeSeries) == 'nan':\n",
    "            fcs.extend(map(float, timeSeries.split(', ')))\n",
    "    return min(fcs)\n",
    "\n",
    "# Verify min fold change of another protein\n",
    "assert np.isclose(MinLogFC(cytoDf.loc[cytoDf['Protein'] == 'GSK3A_HUMAN', 'SigPeptide1':'InsigPeptide10'].values[0]),-1.051833)\n",
    "print 'Protein has expected min log2 fold change'\n",
    "\n",
    "with open(outStyleFile) as f:\n",
    "    styleContent = f.read()\n",
    "    assert '$$$' not in styleContent\n",
    "print 'Removed placeholders from style file'"
   ]
  }
 ],
 "metadata": {
  "kernelspec": {
   "display_name": "Python 2",
   "language": "python",
   "name": "python2"
  },
  "language_info": {
   "codemirror_mode": {
    "name": "ipython",
    "version": 2
   },
   "file_extension": ".py",
   "mimetype": "text/x-python",
   "name": "python",
   "nbconvert_exporter": "python",
   "pygments_lexer": "ipython2",
   "version": "2.7.11"
  }
 },
 "nbformat": 4,
 "nbformat_minor": 0
}
