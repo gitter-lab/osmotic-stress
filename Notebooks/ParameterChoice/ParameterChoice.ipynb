{
 "cells": [
  {
   "cell_type": "markdown",
   "metadata": {},
   "source": [
    "Input: - _size.txt - output from summarize notebook\n",
    "       - *.err - output/error files from PCSF paramter sweeps\n",
    "       - *_optimalForest.sif - output/optimal forest files from PCSF parameter sweeps\n",
    "\n",
    "This uses the PCSF parameter sweeps and the output from the summarize notebook to produce statistics related to the connections in order to choose parameters for the PCSF noise sweeps."
   ]
  },
  {
   "cell_type": "markdown",
   "metadata": {},
   "source": [
    "# Load in libraries and files"
   ]
  },
  {
   "cell_type": "code",
   "execution_count": 1,
   "metadata": {
    "collapsed": false
   },
   "outputs": [],
   "source": [
    "import os.path\n",
    "import glob\n",
    "import matplotlib.pyplot as plt\n",
    "import pandas as pd\n",
    "\n",
    "PCSF_Files = r'/home/dylan/Documents/HDD/Wisconsin/PCSF-06_30_17/'\n",
    "DATA_Files = r'/home/dylan/Documents/HDD/Wisconsin/osmotic-stress/Notebooks/Summarization_Notebooks_and_Scripts/'\n",
    "\n",
    "\n",
    "#r-escapes the whole string\n",
    "Location = DATA_Files + '_size.txt'\n",
    "error = PCSF_Files + '*.err'\n",
    "optimalForests = PCSF_Files + '*_optimalForest.sif'\n",
    "\n",
    "df = pd.read_csv(Location, sep = '\\t', names = [\"Name\", \"ForestSize\", \"Steiner\", \"Prizes\", \"TotalPrizes\", \"Quotient\", \"UBC\"], skiprows = 0)\n"
   ]
  },
  {
   "cell_type": "markdown",
   "metadata": {},
   "source": [
    "# Eliminate columns, Obtain only rows with steiner nodes > 2"
   ]
  },
  {
   "cell_type": "code",
   "execution_count": 2,
   "metadata": {
    "collapsed": false
   },
   "outputs": [
    {
     "name": "stdout",
     "output_type": "stream",
     "text": [
      "Number of items with 2 or less steiner nodes:  2238\n",
      "Number of items with more than 2 steiner nodes:  16800\n",
      "Number of error files:  16800\n",
      "Number of optimal forest files:  16800\n"
     ]
    }
   ],
   "source": [
    "df = df.drop(['UBC'], 1)\n",
    "df = df.drop([0])\n",
    "df2 = df[((df.Steiner <= '2'))]\n",
    "print \"Number of items with 2 or less steiner nodes: \", len(df) - len(df2)\n",
    "print \"Number of items with more than 2 steiner nodes: \", len(df)\n",
    "\n",
    "df2 = df[((df.Prizes == '0'))]\n",
    "#num_files = len([f for f in os.listdir(path) if os.path.isfile(os.path.join(path, f))])\n",
    "\n",
    "print \"Number of error files: \", len(glob.glob(error))\n",
    "print \"Number of optimal forest files: \", len(glob.glob(optimalForests))  \n",
    "    \n",
    "df = df[((df.Steiner > '2'))]"
   ]
  },
  {
   "cell_type": "code",
   "execution_count": 3,
   "metadata": {
    "collapsed": false
   },
   "outputs": [
    {
     "name": "stdout",
     "output_type": "stream",
     "text": [
      "                                                    Name ForestSize Steiner  \\\n",
      "42     prizes_beta0.50_mu0.000_omega3.5_seed122815_op...        140       5   \n",
      "43     prizes_beta0.50_mu0.000_omega4.0_seed122815_op...        136       5   \n",
      "44     prizes_beta0.50_mu0.000_omega7.5_seed122815_op...        139       6   \n",
      "45     prizes_beta0.50_mu0.000_omega5.5_seed122815_op...        140       5   \n",
      "46     prizes_beta0.50_mu0.005_omega1.0_seed122815_op...        127       5   \n",
      "47     prizes_beta0.50_mu0.000_omega10.0_seed122815_o...        143       6   \n",
      "48     prizes_beta0.50_mu0.005_omega9.0_seed122815_op...        126       5   \n",
      "49     prizes_beta0.50_mu0.005_omega8.5_seed122815_op...        116       4   \n",
      "53     prizes_beta0.50_mu0.005_omega4.0_seed122815_op...        127       5   \n",
      "54     prizes_beta0.50_mu0.005_omega4.5_seed122815_op...        127       5   \n",
      "55     prizes_beta0.50_mu0.020_omega2.5_seed122815_op...        105       3   \n",
      "58     prizes_beta0.50_mu0.015_omega8.0_seed122815_op...        102       3   \n",
      "59     prizes_beta0.50_mu0.020_omega0.5_seed122815_op...        105       3   \n",
      "60     prizes_beta0.50_mu0.020_omega4.5_seed122815_op...        100       4   \n",
      "87     prizes_beta0.75_mu0.000_omega5.0_seed122815_op...        226       5   \n",
      "89     prizes_beta0.75_mu0.005_omega1.0_seed122815_op...        212       5   \n",
      "90     prizes_beta0.75_mu0.000_omega6.5_seed122815_op...        229       7   \n",
      "93     prizes_beta0.75_mu0.005_omega5.5_seed122815_op...        212       5   \n",
      "94     prizes_beta0.75_mu0.005_omega4.5_seed122815_op...        212       5   \n",
      "95     prizes_beta0.75_mu0.005_omega6.0_seed122815_op...        212       5   \n",
      "96     prizes_beta0.75_mu0.010_omega4.0_seed122815_op...        197       5   \n",
      "97     prizes_beta0.75_mu0.010_omega6.5_seed122815_op...        197       5   \n",
      "98     prizes_beta0.75_mu0.015_omega2.5_seed122815_op...        189       5   \n",
      "99     prizes_beta0.75_mu0.015_omega9.0_seed122815_op...        189       5   \n",
      "100    prizes_beta0.75_mu0.020_omega1.5_seed122815_op...        179       4   \n",
      "101    prizes_beta0.75_mu0.020_omega1.0_seed122815_op...        179       4   \n",
      "102    prizes_beta0.75_mu0.020_omega2.5_seed122815_op...        179       4   \n",
      "103    prizes_beta0.75_mu0.020_omega6.0_seed122815_op...        179       4   \n",
      "104    prizes_beta0.75_mu0.020_omega2.0_seed122815_op...        179       4   \n",
      "105    prizes_beta0.75_mu0.020_omega5.0_seed122815_op...        179       4   \n",
      "...                                                  ...        ...     ...   \n",
      "15178  prizes_beta2.25_mu0.085_omega5.0_seed122815_op...        360       9   \n",
      "15179  prizes_beta2.25_mu0.075_omega8.5_seed122815_op...        376       9   \n",
      "15180  prizes_beta2.25_mu0.090_omega1.5_seed122815_op...        354       9   \n",
      "15182  prizes_beta2.25_mu0.090_omega4.0_seed122815_op...        354       9   \n",
      "15183  prizes_beta2.25_mu0.100_omega7.5_seed122815_op...        344       9   \n",
      "15184  prizes_beta2.25_mu0.090_omega2.5_seed122815_op...        354       9   \n",
      "15185  prizes_beta2.25_mu0.090_omega8.5_seed122815_op...        354       9   \n",
      "15193  prizes_beta2.25_mu0.100_omega2.5_seed122815_op...        344       9   \n",
      "15194  prizes_beta2.25_mu0.095_omega6.5_seed122815_op...        349       9   \n",
      "15197  prizes_beta2.25_mu0.085_omega9.5_seed122815_op...        360       9   \n",
      "15199  prizes_beta2.25_mu0.080_omega8.5_seed122815_op...        364       9   \n",
      "15200  prizes_beta2.25_mu0.095_omega7.5_seed122815_op...        349       9   \n",
      "15202  prizes_beta2.25_mu0.090_omega1.0_seed122815_op...        354       9   \n",
      "15204  prizes_beta2.25_mu0.095_omega3.5_seed122815_op...        349       9   \n",
      "15250  prizes_beta2.50_mu0.100_omega1.5_seed122815_op...        370       9   \n",
      "16636  prizes_beta9.50_mu0.000_omega1.5_seed122815_op...        657      20   \n",
      "16638  prizes_beta9.50_mu0.000_omega3.5_seed122815_op...        657      20   \n",
      "16639  prizes_beta9.50_mu0.000_omega0.5_seed122815_op...        657      20   \n",
      "16640  prizes_beta9.50_mu0.000_omega5.0_seed122815_op...        657      20   \n",
      "16642  prizes_beta9.50_mu0.000_omega10.0_seed122815_o...        657      20   \n",
      "16643  prizes_beta9.50_mu0.000_omega4.0_seed122815_op...        657      20   \n",
      "16645  prizes_beta9.50_mu0.000_omega8.0_seed122815_op...        657      20   \n",
      "16686  prizes_beta9.75_mu0.000_omega4.0_seed122815_op...        657      20   \n",
      "16690  prizes_beta9.75_mu0.000_omega7.0_seed122815_op...        657      20   \n",
      "16739  prizes_beta10.00_mu0.000_omega7.5_seed122815_o...        657      20   \n",
      "16740  prizes_beta10.00_mu0.010_omega4.5_seed122815_o...        657      20   \n",
      "16741  prizes_beta10.00_mu0.010_omega8.0_seed122815_o...        657      20   \n",
      "16742  prizes_beta10.00_mu0.000_omega9.0_seed122815_o...        657      20   \n",
      "16743  prizes_beta10.00_mu0.010_omega7.5_seed122815_o...        657      20   \n",
      "16744  prizes_beta10.00_mu0.010_omega10.0_seed122815_...        657      20   \n",
      "\n",
      "      Prizes TotalPrizes Quotient  \n",
      "42       135        1596        0  \n",
      "43       131        1596        0  \n",
      "44       133        1596        0  \n",
      "45       135        1596        0  \n",
      "46       122        1596        0  \n",
      "47       137        1596        0  \n",
      "48       121        1596        0  \n",
      "49       112        1596        0  \n",
      "53       122        1596        0  \n",
      "54       122        1596        0  \n",
      "55       102        1596        0  \n",
      "58        99        1596        0  \n",
      "59       102        1596        0  \n",
      "60        96        1596        0  \n",
      "87       221        1596        0  \n",
      "89       207        1596        0  \n",
      "90       222        1596        0  \n",
      "93       207        1596        0  \n",
      "94       207        1596        0  \n",
      "95       207        1596        0  \n",
      "96       192        1596        0  \n",
      "97       192        1596        0  \n",
      "98       184        1596        0  \n",
      "99       184        1596        0  \n",
      "100      175        1596        0  \n",
      "101      175        1596        0  \n",
      "102      175        1596        0  \n",
      "103      175        1596        0  \n",
      "104      175        1596        0  \n",
      "105      175        1596        0  \n",
      "...      ...         ...      ...  \n",
      "15178    351        1596        0  \n",
      "15179    367        1596        0  \n",
      "15180    345        1596        0  \n",
      "15182    345        1596        0  \n",
      "15183    335        1596        0  \n",
      "15184    345        1596        0  \n",
      "15185    345        1596        0  \n",
      "15193    335        1596        0  \n",
      "15194    340        1596        0  \n",
      "15197    351        1596        0  \n",
      "15199    355        1596        0  \n",
      "15200    340        1596        0  \n",
      "15202    345        1596        0  \n",
      "15204    340        1596        0  \n",
      "15250    361        1596        0  \n",
      "16636    637        1596        0  \n",
      "16638    637        1596        0  \n",
      "16639    637        1596        0  \n",
      "16640    637        1596        0  \n",
      "16642    637        1596        0  \n",
      "16643    637        1596        0  \n",
      "16645    637        1596        0  \n",
      "16686    637        1596        0  \n",
      "16690    637        1596        0  \n",
      "16739    637        1596        0  \n",
      "16740    637        1596        0  \n",
      "16741    637        1596        0  \n",
      "16742    637        1596        0  \n",
      "16743    637        1596        0  \n",
      "16744    637        1596        0  \n",
      "\n",
      "[2238 rows x 6 columns]\n"
     ]
    }
   ],
   "source": [
    "print df"
   ]
  },
  {
   "cell_type": "markdown",
   "metadata": {},
   "source": [
    "# Cast each column as float and divide prize nodes by forest size"
   ]
  },
  {
   "cell_type": "code",
   "execution_count": null,
   "metadata": {
    "collapsed": false
   },
   "outputs": [],
   "source": [
    "for index,row in df.iterrows():\n",
    "    row['ForestSize'] = float(row['ForestSize'])\n",
    "    row['Prizes'] = float(row['Prizes'])\n",
    "    row['Quotient'] = float(row['Quotient'])\n",
    "    row['Quotient'] = row['Prizes']/row['ForestSize']\n",
    "df"
   ]
  },
  {
   "cell_type": "markdown",
   "metadata": {},
   "source": [
    "# Find the maximum of the quotient"
   ]
  },
  {
   "cell_type": "code",
   "execution_count": 19,
   "metadata": {
    "collapsed": false
   },
   "outputs": [],
   "source": [
    "maximum = df['Quotient'].max()"
   ]
  },
  {
   "cell_type": "markdown",
   "metadata": {},
   "source": [
    "# Define isclose function that is used in python 3"
   ]
  },
  {
   "cell_type": "code",
   "execution_count": 20,
   "metadata": {
    "collapsed": true
   },
   "outputs": [],
   "source": [
    "def isclose(a, b, rel_tol=1e-09, abs_tol=0.0):\n",
    "    return abs(a-b) <= max(rel_tol * max(abs(a), abs(b)), abs_tol)"
   ]
  },
  {
   "cell_type": "markdown",
   "metadata": {},
   "source": [
    "# Output rows with greatest quotient"
   ]
  },
  {
   "cell_type": "code",
   "execution_count": 21,
   "metadata": {
    "collapsed": false
   },
   "outputs": [
    {
     "name": "stdout",
     "output_type": "stream",
     "text": [
      "Name           prizes_beta1.75_mu0.095_omega6.0_seed122815_op...\n",
      "ForestSize                                                   246\n",
      "Steiner                                                        3\n",
      "Prizes                                                       243\n",
      "TotalPrizes                                                 1596\n",
      "Quotient                                                0.987805\n",
      "Name: 312, dtype: object\n",
      "Name           prizes_beta1.75_mu0.095_omega5.0_seed122815_op...\n",
      "ForestSize                                                   246\n",
      "Steiner                                                        3\n",
      "Prizes                                                       243\n",
      "TotalPrizes                                                 1596\n",
      "Quotient                                                0.987805\n",
      "Name: 925, dtype: object\n",
      "Name           prizes_beta1.75_mu0.095_omega7.0_seed122815_op...\n",
      "ForestSize                                                   246\n",
      "Steiner                                                        3\n",
      "Prizes                                                       243\n",
      "TotalPrizes                                                 1596\n",
      "Quotient                                                0.987805\n",
      "Name: 1797, dtype: object\n",
      "Name           prizes_beta1.75_mu0.095_omega9.5_seed122815_op...\n",
      "ForestSize                                                   246\n",
      "Steiner                                                        3\n",
      "Prizes                                                       243\n",
      "TotalPrizes                                                 1596\n",
      "Quotient                                                0.987805\n",
      "Name: 2721, dtype: object\n",
      "Name           prizes_beta1.75_mu0.095_omega8.0_seed122815_op...\n",
      "ForestSize                                                   246\n",
      "Steiner                                                        3\n",
      "Prizes                                                       243\n",
      "TotalPrizes                                                 1596\n",
      "Quotient                                                0.987805\n",
      "Name: 3857, dtype: object\n",
      "Name           prizes_beta1.75_mu0.095_omega4.5_seed122815_op...\n",
      "ForestSize                                                   246\n",
      "Steiner                                                        3\n",
      "Prizes                                                       243\n",
      "TotalPrizes                                                 1596\n",
      "Quotient                                                0.987805\n",
      "Name: 6816, dtype: object\n",
      "Name           prizes_beta1.75_mu0.095_omega7.5_seed122815_op...\n",
      "ForestSize                                                   246\n",
      "Steiner                                                        3\n",
      "Prizes                                                       243\n",
      "TotalPrizes                                                 1596\n",
      "Quotient                                                0.987805\n",
      "Name: 7513, dtype: object\n",
      "Name           prizes_beta1.75_mu0.095_omega1.5_seed122815_op...\n",
      "ForestSize                                                   246\n",
      "Steiner                                                        3\n",
      "Prizes                                                       243\n",
      "TotalPrizes                                                 1596\n",
      "Quotient                                                0.987805\n",
      "Name: 7909, dtype: object\n",
      "Name           prizes_beta1.75_mu0.095_omega4.0_seed122815_op...\n",
      "ForestSize                                                   246\n",
      "Steiner                                                        3\n",
      "Prizes                                                       243\n",
      "TotalPrizes                                                 1596\n",
      "Quotient                                                0.987805\n",
      "Name: 9040, dtype: object\n",
      "Name           prizes_beta1.75_mu0.095_omega3.5_seed122815_op...\n",
      "ForestSize                                                   246\n",
      "Steiner                                                        3\n",
      "Prizes                                                       243\n",
      "TotalPrizes                                                 1596\n",
      "Quotient                                                0.987805\n",
      "Name: 9193, dtype: object\n",
      "Name           prizes_beta1.75_mu0.095_omega2.0_seed122815_op...\n",
      "ForestSize                                                   246\n",
      "Steiner                                                        3\n",
      "Prizes                                                       243\n",
      "TotalPrizes                                                 1596\n",
      "Quotient                                                0.987805\n",
      "Name: 9935, dtype: object\n",
      "Name           prizes_beta1.75_mu0.095_omega8.5_seed122815_op...\n",
      "ForestSize                                                   246\n",
      "Steiner                                                        3\n",
      "Prizes                                                       243\n",
      "TotalPrizes                                                 1596\n",
      "Quotient                                                0.987805\n",
      "Name: 10294, dtype: object\n",
      "Name           prizes_beta1.75_mu0.095_omega3.0_seed122815_op...\n",
      "ForestSize                                                   246\n",
      "Steiner                                                        3\n",
      "Prizes                                                       243\n",
      "TotalPrizes                                                 1596\n",
      "Quotient                                                0.987805\n",
      "Name: 11092, dtype: object\n",
      "Name           prizes_beta1.75_mu0.095_omega0.5_seed122815_op...\n",
      "ForestSize                                                   246\n",
      "Steiner                                                        3\n",
      "Prizes                                                       243\n",
      "TotalPrizes                                                 1596\n",
      "Quotient                                                0.987805\n",
      "Name: 11235, dtype: object\n",
      "Name           prizes_beta1.75_mu0.095_omega1.0_seed122815_op...\n",
      "ForestSize                                                   246\n",
      "Steiner                                                        3\n",
      "Prizes                                                       243\n",
      "TotalPrizes                                                 1596\n",
      "Quotient                                                0.987805\n",
      "Name: 11396, dtype: object\n",
      "Name           prizes_beta1.75_mu0.095_omega10.0_seed122815_o...\n",
      "ForestSize                                                   246\n",
      "Steiner                                                        3\n",
      "Prizes                                                       243\n",
      "TotalPrizes                                                 1596\n",
      "Quotient                                                0.987805\n",
      "Name: 11411, dtype: object\n",
      "Name           prizes_beta1.75_mu0.095_omega9.0_seed122815_op...\n",
      "ForestSize                                                   246\n",
      "Steiner                                                        3\n",
      "Prizes                                                       243\n",
      "TotalPrizes                                                 1596\n",
      "Quotient                                                0.987805\n",
      "Name: 11672, dtype: object\n",
      "Name           prizes_beta1.75_mu0.095_omega5.5_seed122815_op...\n",
      "ForestSize                                                   246\n",
      "Steiner                                                        3\n",
      "Prizes                                                       243\n",
      "TotalPrizes                                                 1596\n",
      "Quotient                                                0.987805\n",
      "Name: 11929, dtype: object\n",
      "Name           prizes_beta1.75_mu0.095_omega2.5_seed122815_op...\n",
      "ForestSize                                                   246\n",
      "Steiner                                                        3\n",
      "Prizes                                                       243\n",
      "TotalPrizes                                                 1596\n",
      "Quotient                                                0.987805\n",
      "Name: 14740, dtype: object\n",
      "Name           prizes_beta1.75_mu0.095_omega6.5_seed122815_op...\n",
      "ForestSize                                                   246\n",
      "Steiner                                                        3\n",
      "Prizes                                                       243\n",
      "TotalPrizes                                                 1596\n",
      "Quotient                                                0.987805\n",
      "Name: 16213, dtype: object\n"
     ]
    }
   ],
   "source": [
    "for index,row in df.iterrows():\n",
    "    if(isclose(row['Quotient'],maximum)):\n",
    "        print row"
   ]
  },
  {
   "cell_type": "code",
   "execution_count": null,
   "metadata": {
    "collapsed": true
   },
   "outputs": [],
   "source": []
  }
 ],
 "metadata": {
  "anaconda-cloud": {},
  "kernelspec": {
   "display_name": "Python [default]",
   "language": "python",
   "name": "python2"
  },
  "language_info": {
   "codemirror_mode": {
    "name": "ipython",
    "version": 2
   },
   "file_extension": ".py",
   "mimetype": "text/x-python",
   "name": "python",
   "nbconvert_exporter": "python",
   "pygments_lexer": "ipython2",
   "version": "2.7.12"
  }
 },
 "nbformat": 4,
 "nbformat_minor": 0
}
