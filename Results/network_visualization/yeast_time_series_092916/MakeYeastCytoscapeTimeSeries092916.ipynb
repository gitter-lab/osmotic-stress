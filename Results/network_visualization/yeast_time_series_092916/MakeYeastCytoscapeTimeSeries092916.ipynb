{
 "cells": [
  {
   "cell_type": "markdown",
   "metadata": {
    "collapsed": false
   },
   "source": [
    "# Map the Kanshin 2015 yeast data into a Cytoscape node annotation file - September 29, 2016\n"
   ]
  },
  {
   "cell_type": "markdown",
   "metadata": {},
   "source": [
    "## Create a copy of the yeast data\n",
    "Only copy the data files if they are needed.  This project is still a work in progress so we want to copy a fixed version of the input data so that the visualization does not change if there are updates in Dylan's repository.  Print the git log to get the commit id for the version of the data that was used.\n",
    "\n",
    "Could also obtain the significance files and use them to create different colors for significant and insignificant peptides, as in the TPS EGFR study."
   ]
  },
  {
   "cell_type": "code",
   "execution_count": 1,
   "metadata": {
    "collapsed": false
   },
   "outputs": [
    {
     "name": "stdout",
     "output_type": "stream",
     "text": [
      "On branch master\n",
      "Your branch is up-to-date with 'origin/master'.\n",
      "nothing to commit, working tree clean\n",
      "commit f0de8aaa06e0f0493eff43ae3a9e9e63a8a22c5f\n",
      "Author: Dylan Cronin <dcronin@bgsu.edu>\n",
      "Date:   Mon Sep 26 21:29:50 2016 -0400\n",
      "\n",
      "    Added README to define purposes of scripts\n"
     ]
    }
   ],
   "source": [
    "%%bash\n",
    "cd C:/Users/agitter/Desktop/bmiToSave/outreach/IBS-SRP2016/dylan/osmotic-stress\n",
    "git status\n",
    "git log -1"
   ]
  },
  {
   "cell_type": "code",
   "execution_count": 2,
   "metadata": {
    "collapsed": false
   },
   "outputs": [
    {
     "name": "stdout",
     "output_type": "stream",
     "text": [
      "Populating the interactive namespace from numpy and matplotlib\n",
      "Creating ..\\data\\Kanshin2015\n",
      "Copying C:\\Users\\agitter\\Desktop\\bmiToSave\\outreach\\IBS-SRP2016\\dylan\\osmotic-stress\\Notebooks\\Apply Thresholds\\peptideMap.tsv\n",
      "to\n",
      "..\\data\\Kanshin2015\\peptide_map.txt\n",
      "\n",
      "Copying C:\\Users\\agitter\\Desktop\\bmiToSave\\outreach\\IBS-SRP2016\\dylan\\osmotic-stress\\Notebooks\\Apply Thresholds\\timeSeries.tsv\n",
      "to\n",
      "..\\data\\Kanshin2015\\peptide_time_series.txt\n",
      "\n",
      "Creating ..\\cytoscape\\yeast_time_series_092916\n",
      "Copying C:\\Users\\agitter\\Desktop\\bmiToSave\\outreach\\IBS-SRP2016\\dylan\\osmotic-stress\\Results\\network_visualization\\TPS-correctName.cys\n",
      "to\n",
      "..\\cytoscape\\yeast_time_series_092916\\TPS_network.cys\n",
      "\n"
     ]
    }
   ],
   "source": [
    "%pylab inline\n",
    "import os, shutil, collections\n",
    "import itertools as it\n",
    "\n",
    "data_dir = os.path.join('..','data','Kanshin2015')\n",
    "peptide_map_file = os.path.join(data_dir, 'peptide_map.txt')\n",
    "time_series_file = os.path.join(data_dir, 'peptide_time_series.txt')\n",
    "\n",
    "out_dir = os.path.join('..', 'cytoscape', 'yeast_time_series_092916')\n",
    "network_file = os.path.join(out_dir, 'TPS_network.cys')\n",
    "out_file = os.path.join(out_dir, 'cytoscape_time_series.txt')\n",
    "\n",
    "# Dylan's git repository is the source of the Kanshin 2015 data\n",
    "data_source_dir = r'C:\\Users\\agitter\\Desktop\\bmiToSave\\outreach\\IBS-SRP2016\\dylan\\osmotic-stress\\Notebooks\\Apply Thresholds'\n",
    "peptide_map_source_file = os.path.join(data_source_dir, 'peptideMap.tsv')\n",
    "time_series_source_file = os.path.join(data_source_dir, 'timeSeries.tsv')\n",
    "\n",
    "network_source_dir = r'C:\\Users\\agitter\\Desktop\\bmiToSave\\outreach\\IBS-SRP2016\\dylan\\osmotic-stress\\Results\\network_visualization'\n",
    "network_source_file = os.path.join(network_source_dir, 'TPS-correctName.cys')\n",
    "\n",
    "if not os.path.exists(data_dir):\n",
    "    print 'Creating {}'.format(data_dir)\n",
    "    os.makedirs(data_dir)\n",
    "\n",
    "if not os.path.exists(peptide_map_file):\n",
    "    print 'Copying {}\\nto\\n{}\\n'.format(peptide_map_source_file, peptide_map_file)\n",
    "    shutil.copy2(peptide_map_source_file, peptide_map_file)\n",
    "\n",
    "if not os.path.exists(time_series_file):\n",
    "    print 'Copying {}\\nto\\n{}\\n'.format(time_series_source_file, time_series_file)\n",
    "    shutil.copy2(time_series_source_file, time_series_file)\n",
    "\n",
    "if not os.path.exists(out_dir):\n",
    "    print 'Creating {}'.format(out_dir)\n",
    "    os.makedirs(out_dir)\n",
    "\n",
    "if not os.path.exists(network_file):\n",
    "    print 'Copying {}\\nto\\n{}\\n'.format(network_source_file, network_file)\n",
    "    shutil.copy2(network_source_file, network_file)"
   ]
  },
  {
   "cell_type": "markdown",
   "metadata": {},
   "source": [
    "## Load the peptide mapping\n",
    "Each yeast ORF id maps to a set of peptides.  Plot the number of peptides per ORF.  Some ORFs have 27 peptides, which may be a good reason to filter and only include those that are signficant.  That would be hard to load into Cytoscape."
   ]
  },
  {
   "cell_type": "code",
   "execution_count": 3,
   "metadata": {
    "collapsed": false
   },
   "outputs": [
    {
     "name": "stdout",
     "output_type": "stream",
     "text": [
      "1596 unique yeast ORFs\n",
      "Range of peptides per ORF: 1-27\n"
     ]
    },
    {
     "data": {
      "image/png": "[encoded data removed]",
      "text/plain": [
       "<matplotlib.figure.Figure at 0x3c14b00>"
      ]
     },
     "metadata": {},
     "output_type": "display_data"
    }
   ],
   "source": [
    "orf_to_peptide_map = collections.defaultdict(set)\n",
    "peptide_to_orf_map = dict()\n",
    "with open(peptide_map_file) as p_file:\n",
    "    for line in p_file:\n",
    "        parts = line.strip().split('\\t')\n",
    "        assert len(parts) == 2, 'Expected peptide and ORF'\n",
    "        orf_to_peptide_map[parts[1]].add(parts[0])\n",
    "        peptide_to_orf_map[parts[0]] = parts[1]\n",
    "\n",
    "print '{} unique yeast ORFs'.format(len(orf_to_peptide_map))\n",
    "\n",
    "peptides_per_orf = [len(peptides) for peptides in orf_to_peptide_map.values()]\n",
    "print 'Range of peptides per ORF: {}-{}'.format(min(peptides_per_orf), max(peptides_per_orf))\n",
    "\n",
    "hist(peptides_per_orf);\n",
    "title('Peptides per ORF');"
   ]
  },
  {
   "cell_type": "markdown",
   "metadata": {},
   "source": [
    "## Load the peptide time series\n",
    "Create a map from the ORF to a list of associated time series profiles.  Impute missing data.  If the first time point is missing, set it to 0.  If later time points are missing, set them to the previous observed time point."
   ]
  },
  {
   "cell_type": "code",
   "execution_count": 4,
   "metadata": {
    "collapsed": false
   },
   "outputs": [
    {
     "name": "stdout",
     "output_type": "stream",
     "text": [
      "YLR131C\n",
      "0.0394191831334, -0.0553364248649, -0.318883616213, 0.00863030514344, 0.0224743465749, -0.312778025578, 0.00417776078911, 0.168385305415, 0.0994972011702, 0.146915848087, -0.00424777070733, 0.245373962618, 0.133826527299\n",
      "0.0159256899903, 0.0728604019312, -0.0301624785016, 0.0361868028478, 0.0230423926659, 0.110496881917, -0.0423527981998, -0.00860967475186, 0.0554733358984, 0.00173019613888, 0.0760117385696, -0.0188195435063, 0.0120680233091\n",
      "0.0684644509669, -0.0421448186025, 0.0697021666301, -0.105023185301, -0.0734539795147, -0.0660950514183, -0.0354313227977, -0.0243257962354, -0.027292643446, -0.022448966907, 0.118093889387, 0.0285691521968, 0.0735460609152\n",
      "0.0199153677077, 0.0323830053117, 0.0576928671683, 0.0792927672729, -0.0517729561208, 0.032100843167, 0.0824300999459, 0.0585243118408, 0.0665370023958, 0.0367494764279, -0.0144849970915, 0.0275787274743, 0.20576784015\n",
      "0.0109230271848, 0.0499095224431, 0.0473987888754, -0.0518925937356, 0.0567222423745, -0.132925908893, 0.212258044203, -0.0461164625689, 0.0349199843492, -0.00177560712267, -0.0209404766626, -0.0931709606931, 0.153286520991\n",
      "0.0487941802608, 0.0586628393786, 0.0779265786851, 0.0703893278914, 0.139076515046, 0.141171172461, 0.0792927672729, 0.13264264254, 0.108624814682, 0.15924165973, -0.0166433452258, 0.0504668703507, 0.173255383021\n",
      "0.077379740797, 0.123666196454, 0.043624476747, 0.0717626693001, 0.0486547018403, -0.00245466862952, 0.19924830684, 0.314406507555, 0.229587922741, 0.17197537669, 0.346644921589, 0.280006078301, 0.385154896884\n",
      "0.0349199843492, 0.02332633186, -0.0472638772288, -0.0421151096789, -0.130002289526, -0.0584579407395, -0.0652947998274, -0.00504381227358, 0.0248869993132, 0.0408223101073, -0.0794627772598, -0.0403930380331, 0.0220481651802\n",
      "0.147697443614, -0.0286017574731, -0.121392354282, -0.00773913917506, -0.235450016858, -0.174849379476, -0.222717064244, -0.235942650652, -0.244069859604, -0.244069859604, -0.0646156892018, -0.252260294913, -0.062535074396\n",
      "0.0988237683797, 0.0740943535739, 0.0740943535739, 0.0490730966543, -0.0169644566059, -0.052535815947, -0.113847892419, -0.122569840302, 0.0231843692483, -0.170913586174, -0.225716851757, -0.146148030853, -0.184555731194\n",
      "0.0777898886437, -0.206894851941, 0.103396924492, -0.31643827837, 0.0905824763624, -0.0824689493611, -0.115066107914, -0.0331118412666, 0.151988666423, 0.164914969552, 0.164914969552, -0.0670922121016, -0.0670922121016\n",
      "0, 0.10540989404, -0.137901762541, -0.111788637486, 0.0366088286051, -0.0109482110892, 0.115699153432, -0.0345001274169, 0.241352085771, 0.37105696835, -0.239157391252, -0.239157391252, -0.00481219123882\n",
      "\n",
      "YIR003W\n",
      "0.0673633671196, -0.0167747003336, 0.29054236266, 0.177726482932, 0.240619629312, 0.0147837526271, 0.217975140923, 0.52074909665, 0.46173808602, 0.749062230739, 0.766128674991, 1.25863952114, 0.654435540845\n",
      "0.108758614361, 0.0997664862929, 0.125518859575, 0.039138393907, 0.185105362543, 0.0977456216385, 0.113300435833, 0.0976107966264, 0.153675649797, 0.165944087771, 0.200880954286, 0.197488002406, 0.18966644665\n",
      "0.0432044985652, -0.0714515423844, 0.103799743158, 0.0258792730233, 0.0777898886437, -0.00349555332649, 0.0690146779152, 0.00776959414592, 0.105946211905, 0.0663992289114, 0.135928815526, 0.0727232310216, 0.0846085753178\n",
      "-0.0243991594545, 0.0102069428693, 0.0511632525821, 0.0471195485686, -0.0350912929152, -0.0315774201669, -0.0180158665714, -0.0287194888527, -0.00795672382834, -0.024457852716, 0.01977306904, -0.0216872018751, 0.0154975693953\n",
      "-0.00924840152441, -0.0336729024694, -0.0382433350726, -0.1225384282, -0.0778173780169, -0.13641037516, 0.111164889079, -0.0310024327382, 0.0688771408503, -0.0471446228263, 0.0732718364245, -0.0339092040582, 0.062812492405\n",
      "-0.0994326275853, 0.0214797274105, 0.102053382729, 0.0936953802336, -0.048546485016, 0.0812032604174, 0.0044654367703, -0.0509806074103, 0.0359053837421, -0.0320051235265, -0.00187672368803, -0.00199229415579, 0.0543622884497\n",
      "0.0136409106694, -0.0169060674022, -0.0169060674022, 0.195977458643, -0.0806522893162, 0.0806576633452, -0.120325596994, 0.0725860470686, 0.00475305539982, 0.162338957725, 0.177598929328, 0.31417445109, 0.249020510286\n",
      "-0.296792963157, -0.00885642202923, -0.201028777507, -0.107010646899, -0.0835997917615, -0.0687102869482, -0.0297058665079, -0.0111372025044, -0.0111372025044, -0.104945605619, -0.442947778856, -0.332498397403, -0.13641037516\n",
      "0, -0.0892826859983, -0.268486540731, -0.154682580982, -0.231481114655, -0.0543773156395, -0.131550279623, -0.0975018772625, -0.224941027891, -0.105892362875, -0.305324807006, -0.427284920366, -0.427284920366\n",
      "-0.115972627768, 0.333652714765, 0.333652714765, 0.0112093614203, 0.0350607969051, 0.0114956388378, 0.139338513601, 0.282261866588, 0.282261866588, 0.282261866588, 0.123401335972, 0.240008964735, 0.441802154629\n",
      "\n",
      "YOL130W\n",
      "0.0030264828899, -0.253016568542, 0.203639694014, 0.231923873294, 0.179511050272, 0.282380494639, 0.867105729503, 0.715717689222, 1.29842371193, 1.5278210224, 2.04099760507, 2.24838302943, 2.33247880259\n",
      "-0.0877027092405, -0.242038026687, -0.242038026687, -0.242038026687, -0.389904730513, -0.471648727656, -0.735139336833, -0.735139336833, -0.946388152574, -0.975481733386, -1.04061560403, -0.929775560964, -1.04692104739\n",
      "0.0412429822319, -0.249050547509, -0.297626148041, -0.368271732706, -0.248124995843, -0.277481514845, -0.169176797438, -0.346683118888, -0.260480212569, -0.262884373351, -0.306412684597, -0.306412684597, -0.306412684597\n",
      "\n"
     ]
    }
   ],
   "source": [
    "# Helper function\n",
    "# Replaces missing values\n",
    "# Collapses the list to a string\n",
    "def clean_ts(time_series):\n",
    "    if time_series[0] == '':\n",
    "        time_series[0] = '0'\n",
    "\n",
    "    for i in range(1, len(time_series)):\n",
    "        if time_series[i] == '':\n",
    "            time_series[i] = time_series[i-1]\n",
    "\n",
    "    return ', '.join(time_series)\n",
    "\n",
    "orf_ts_map = collections.defaultdict(list)\n",
    "with open(time_series_file) as t_file:\n",
    "    header = t_file.readline().strip()\n",
    "    assert header == 'ModifiedPeptideSeq\\tT00\\tT05\\tT10\\tT15\\tT20\\tT25\\tT30\\tT35\\tT40\\tT45\\tT50\\tT55\\tT60', 'Unexpected header'\n",
    "    for line in t_file:\n",
    "        # Don't strip all whitespace or trailing missing data will be lost\n",
    "        parts = line.strip('\\n').split('\\t')\n",
    "        assert len(parts) == 14\n",
    "        \n",
    "        # Find the matching ORF, add this time series to its list\n",
    "        peptide = parts[0]\n",
    "        time_series = clean_ts(parts[1:])\n",
    "        assert peptide in peptide_to_orf_map, 'Unexpected peptide: {}'.format(peptide)\n",
    "        orf = peptide_to_orf_map[peptide]\n",
    "        orf_ts_map[orf].append(time_series)\n",
    "\n",
    "# Check missing data handling\n",
    "missing_orfs = ['YLR131C', 'YIR003W', 'YOL130W']\n",
    "for orf in missing_orfs:\n",
    "    print orf\n",
    "    print '\\n'.join(map(str,orf_ts_map[orf]))\n",
    "    print"
   ]
  },
  {
   "cell_type": "markdown",
   "metadata": {},
   "source": [
    "## Write the time series to a file\n",
    "Write one column for each possible peptide even though most columns will be mostly empty"
   ]
  },
  {
   "cell_type": "code",
   "execution_count": 5,
   "metadata": {
    "collapsed": false
   },
   "outputs": [],
   "source": [
    "cols = max(peptides_per_orf)\n",
    "header = ['ORF']\n",
    "# Make a header that is Peptide<i>\n",
    "header.extend(map(lambda x, y: x + str(y), it.repeat('Peptide',cols), range(1,cols+1)))\n",
    "\n",
    "with open(out_file, 'w') as o_file:\n",
    "    o_file.write('\\t'.join(header))\n",
    "    o_file.write('\\n')\n",
    "    for orf in sorted(orf_ts_map.keys()):\n",
    "        # Each line is the ORF id followed by all comma-separated time series profiles, one per column\n",
    "        out_line = [orf]\n",
    "        out_line.extend(orf_ts_map[orf])\n",
    "        o_file.write('\\t'.join(out_line))\n",
    "        o_file.write('\\n')"
   ]
  }
 ],
 "metadata": {
  "kernelspec": {
   "display_name": "Python 2",
   "language": "python",
   "name": "python2"
  },
  "language_info": {
   "codemirror_mode": {
    "name": "ipython",
    "version": 2
   },
   "file_extension": ".py",
   "mimetype": "text/x-python",
   "name": "python",
   "nbconvert_exporter": "python",
   "pygments_lexer": "ipython2",
   "version": "2.7.11"
  }
 },
 "nbformat": 4,
 "nbformat_minor": 0
}
