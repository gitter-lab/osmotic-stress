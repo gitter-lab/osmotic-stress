{
 "cells": [
  {
   "cell_type": "markdown",
   "metadata": {},
   "source": [
    "# Parse a simplified verison of the Kanshin2015 phosphorylation data"
   ]
  },
  {
   "cell_type": "code",
   "execution_count": 1,
   "metadata": {
    "collapsed": true
   },
   "outputs": [],
   "source": [
    "import pandas as pd\n",
    "import numpy as np"
   ]
  },
  {
   "cell_type": "markdown",
   "metadata": {},
   "source": [
    "## Load the file, check the structure of the simplified verison"
   ]
  },
  {
   "cell_type": "code",
   "execution_count": 2,
   "metadata": {
    "collapsed": false
   },
   "outputs": [
    {
     "data": {
      "text/html": [
       "<div>\n",
       "<table border=\"1\" class=\"dataframe\">\n",
       "  <thead>\n",
       "    <tr style=\"text-align: right;\">\n",
       "      <th></th>\n",
       "      <th>id</th>\n",
       "      <th>Modified Peptide Sequence</th>\n",
       "      <th>PhosphoGroups</th>\n",
       "      <th>Significance</th>\n",
       "      <th>pSite</th>\n",
       "      <th>T00</th>\n",
       "      <th>T05</th>\n",
       "      <th>T10</th>\n",
       "      <th>T15</th>\n",
       "      <th>T20</th>\n",
       "    </tr>\n",
       "  </thead>\n",
       "  <tbody>\n",
       "    <tr>\n",
       "      <th>0</th>\n",
       "      <td>18075</td>\n",
       "      <td>NVVDENLINDMDS(ph)EDAHK</td>\n",
       "      <td>1</td>\n",
       "      <td>NaN</td>\n",
       "      <td>S618</td>\n",
       "      <td>-0.041432</td>\n",
       "      <td>0.014212</td>\n",
       "      <td>0.064607</td>\n",
       "      <td>0.132248</td>\n",
       "      <td>0.131194</td>\n",
       "    </tr>\n",
       "    <tr>\n",
       "      <th>1</th>\n",
       "      <td>18058</td>\n",
       "      <td>ADDEEDLS(ph)DENIQPELR</td>\n",
       "      <td>1</td>\n",
       "      <td>NaN</td>\n",
       "      <td>S720</td>\n",
       "      <td>-0.004523</td>\n",
       "      <td>-0.020311</td>\n",
       "      <td>0.022332</td>\n",
       "      <td>0.002595</td>\n",
       "      <td>0.031819</td>\n",
       "    </tr>\n",
       "    <tr>\n",
       "      <th>2</th>\n",
       "      <td>18078</td>\n",
       "      <td>SNS(ph)IDYAK</td>\n",
       "      <td>1</td>\n",
       "      <td>NaN</td>\n",
       "      <td>S467</td>\n",
       "      <td>-0.095188</td>\n",
       "      <td>-0.039221</td>\n",
       "      <td>-0.043705</td>\n",
       "      <td>-0.042115</td>\n",
       "      <td>-0.077330</td>\n",
       "    </tr>\n",
       "    <tr>\n",
       "      <th>3</th>\n",
       "      <td>18077</td>\n",
       "      <td>QHLSDIT(ph)LEER</td>\n",
       "      <td>1</td>\n",
       "      <td>NaN</td>\n",
       "      <td>T633</td>\n",
       "      <td>-0.054797</td>\n",
       "      <td>0.098554</td>\n",
       "      <td>0.041944</td>\n",
       "      <td>-0.105411</td>\n",
       "      <td>0.020769</td>\n",
       "    </tr>\n",
       "    <tr>\n",
       "      <th>4</th>\n",
       "      <td>18068</td>\n",
       "      <td>GLDDESGPTHGNDS(ph)GNHR</td>\n",
       "      <td>1</td>\n",
       "      <td>NaN</td>\n",
       "      <td>S215</td>\n",
       "      <td>-0.113489</td>\n",
       "      <td>-0.100685</td>\n",
       "      <td>-0.020019</td>\n",
       "      <td>-0.034352</td>\n",
       "      <td>-0.081125</td>\n",
       "    </tr>\n",
       "  </tbody>\n",
       "</table>\n",
       "</div>"
      ],
      "text/plain": [
       "      id Modified Peptide Sequence  PhosphoGroups Significance pSite  \\\n",
       "0  18075    NVVDENLINDMDS(ph)EDAHK              1          NaN  S618   \n",
       "1  18058     ADDEEDLS(ph)DENIQPELR              1          NaN  S720   \n",
       "2  18078              SNS(ph)IDYAK              1          NaN  S467   \n",
       "3  18077           QHLSDIT(ph)LEER              1          NaN  T633   \n",
       "4  18068    GLDDESGPTHGNDS(ph)GNHR              1          NaN  S215   \n",
       "\n",
       "        T00       T05       T10       T15       T20  \n",
       "0 -0.041432  0.014212  0.064607  0.132248  0.131194  \n",
       "1 -0.004523 -0.020311  0.022332  0.002595  0.031819  \n",
       "2 -0.095188 -0.039221 -0.043705 -0.042115 -0.077330  \n",
       "3 -0.054797  0.098554  0.041944 -0.105411  0.020769  \n",
       "4 -0.113489 -0.100685 -0.020019 -0.034352 -0.081125  "
      ]
     },
     "execution_count": 2,
     "metadata": {},
     "output_type": "execute_result"
    }
   ],
   "source": [
    "phospho_df = pd.read_csv('simplified_phospho.tsv', sep='\\t')\n",
    "phospho_df.head()"
   ]
  },
  {
   "cell_type": "code",
   "execution_count": 3,
   "metadata": {
    "collapsed": false
   },
   "outputs": [
    {
     "data": {
      "text/html": [
       "<div>\n",
       "<table border=\"1\" class=\"dataframe\">\n",
       "  <thead>\n",
       "    <tr style=\"text-align: right;\">\n",
       "      <th></th>\n",
       "      <th>id</th>\n",
       "      <th>PhosphoGroups</th>\n",
       "      <th>T00</th>\n",
       "      <th>T05</th>\n",
       "      <th>T10</th>\n",
       "      <th>T15</th>\n",
       "      <th>T20</th>\n",
       "    </tr>\n",
       "  </thead>\n",
       "  <tbody>\n",
       "    <tr>\n",
       "      <th>count</th>\n",
       "      <td>14.000000</td>\n",
       "      <td>14</td>\n",
       "      <td>14.000000</td>\n",
       "      <td>14.000000</td>\n",
       "      <td>14.000000</td>\n",
       "      <td>14.000000</td>\n",
       "      <td>13.000000</td>\n",
       "    </tr>\n",
       "    <tr>\n",
       "      <th>mean</th>\n",
       "      <td>14025.000000</td>\n",
       "      <td>1</td>\n",
       "      <td>-0.016738</td>\n",
       "      <td>0.036592</td>\n",
       "      <td>0.080097</td>\n",
       "      <td>0.059421</td>\n",
       "      <td>0.039683</td>\n",
       "    </tr>\n",
       "    <tr>\n",
       "      <th>std</th>\n",
       "      <td>4199.044836</td>\n",
       "      <td>0</td>\n",
       "      <td>0.090905</td>\n",
       "      <td>0.138889</td>\n",
       "      <td>0.174544</td>\n",
       "      <td>0.162434</td>\n",
       "      <td>0.142461</td>\n",
       "    </tr>\n",
       "    <tr>\n",
       "      <th>min</th>\n",
       "      <td>9948.000000</td>\n",
       "      <td>1</td>\n",
       "      <td>-0.134129</td>\n",
       "      <td>-0.100685</td>\n",
       "      <td>-0.045327</td>\n",
       "      <td>-0.105411</td>\n",
       "      <td>-0.081125</td>\n",
       "    </tr>\n",
       "    <tr>\n",
       "      <th>25%</th>\n",
       "      <td>9983.500000</td>\n",
       "      <td>1</td>\n",
       "      <td>-0.083508</td>\n",
       "      <td>-0.034494</td>\n",
       "      <td>-0.018282</td>\n",
       "      <td>-0.010580</td>\n",
       "      <td>-0.024663</td>\n",
       "    </tr>\n",
       "    <tr>\n",
       "      <th>50%</th>\n",
       "      <td>14025.500000</td>\n",
       "      <td>1</td>\n",
       "      <td>-0.029994</td>\n",
       "      <td>0.014498</td>\n",
       "      <td>0.021693</td>\n",
       "      <td>0.020388</td>\n",
       "      <td>0.016924</td>\n",
       "    </tr>\n",
       "    <tr>\n",
       "      <th>75%</th>\n",
       "      <td>18072.250000</td>\n",
       "      <td>1</td>\n",
       "      <td>0.023990</td>\n",
       "      <td>0.067527</td>\n",
       "      <td>0.063744</td>\n",
       "      <td>0.069619</td>\n",
       "      <td>0.031819</td>\n",
       "    </tr>\n",
       "    <tr>\n",
       "      <th>max</th>\n",
       "      <td>18078.000000</td>\n",
       "      <td>1</td>\n",
       "      <td>0.221692</td>\n",
       "      <td>0.469573</td>\n",
       "      <td>0.556307</td>\n",
       "      <td>0.582460</td>\n",
       "      <td>0.470823</td>\n",
       "    </tr>\n",
       "  </tbody>\n",
       "</table>\n",
       "</div>"
      ],
      "text/plain": [
       "                 id  PhosphoGroups        T00        T05        T10  \\\n",
       "count     14.000000             14  14.000000  14.000000  14.000000   \n",
       "mean   14025.000000              1  -0.016738   0.036592   0.080097   \n",
       "std     4199.044836              0   0.090905   0.138889   0.174544   \n",
       "min     9948.000000              1  -0.134129  -0.100685  -0.045327   \n",
       "25%     9983.500000              1  -0.083508  -0.034494  -0.018282   \n",
       "50%    14025.500000              1  -0.029994   0.014498   0.021693   \n",
       "75%    18072.250000              1   0.023990   0.067527   0.063744   \n",
       "max    18078.000000              1   0.221692   0.469573   0.556307   \n",
       "\n",
       "             T15        T20  \n",
       "count  14.000000  13.000000  \n",
       "mean    0.059421   0.039683  \n",
       "std     0.162434   0.142461  \n",
       "min    -0.105411  -0.081125  \n",
       "25%    -0.010580  -0.024663  \n",
       "50%     0.020388   0.016924  \n",
       "75%     0.069619   0.031819  \n",
       "max     0.582460   0.470823  "
      ]
     },
     "execution_count": 3,
     "metadata": {},
     "output_type": "execute_result"
    }
   ],
   "source": [
    "phospho_df.describe()"
   ]
  },
  {
   "cell_type": "markdown",
   "metadata": {},
   "source": [
    "## Want to see dtype: float64 to make sure it parsed the file correctly\n",
    "Note that there are NaN, can select the NaN values if needed"
   ]
  },
  {
   "cell_type": "code",
   "execution_count": 4,
   "metadata": {
    "collapsed": false
   },
   "outputs": [
    {
     "data": {
      "text/plain": [
       "0     0.131194\n",
       "1     0.031819\n",
       "2    -0.077330\n",
       "3     0.020769\n",
       "4    -0.081125\n",
       "5    -0.062625\n",
       "6          NaN\n",
       "7     0.470823\n",
       "8    -0.024663\n",
       "9     0.001154\n",
       "10    0.023894\n",
       "11    0.075053\n",
       "12   -0.010004\n",
       "13    0.016924\n",
       "Name: T20, dtype: float64"
      ]
     },
     "execution_count": 4,
     "metadata": {},
     "output_type": "execute_result"
    }
   ],
   "source": [
    "phospho_df[\"T20\"]"
   ]
  },
  {
   "cell_type": "code",
   "execution_count": 5,
   "metadata": {
    "collapsed": false
   },
   "outputs": [
    {
     "data": {
      "text/html": [
       "<div>\n",
       "<table border=\"1\" class=\"dataframe\">\n",
       "  <thead>\n",
       "    <tr style=\"text-align: right;\">\n",
       "      <th></th>\n",
       "      <th>id</th>\n",
       "      <th>Modified Peptide Sequence</th>\n",
       "      <th>PhosphoGroups</th>\n",
       "      <th>Significance</th>\n",
       "      <th>pSite</th>\n",
       "      <th>T00</th>\n",
       "      <th>T05</th>\n",
       "      <th>T10</th>\n",
       "      <th>T15</th>\n",
       "      <th>T20</th>\n",
       "    </tr>\n",
       "  </thead>\n",
       "  <tbody>\n",
       "    <tr>\n",
       "      <th>6</th>\n",
       "      <td>18073</td>\n",
       "      <td>LLS(ph)SHLK</td>\n",
       "      <td>1</td>\n",
       "      <td>NaN</td>\n",
       "      <td>S655</td>\n",
       "      <td>0.221692</td>\n",
       "      <td>0.07738</td>\n",
       "      <td>0.388686</td>\n",
       "      <td>0.098824</td>\n",
       "      <td>NaN</td>\n",
       "    </tr>\n",
       "  </tbody>\n",
       "</table>\n",
       "</div>"
      ],
      "text/plain": [
       "      id Modified Peptide Sequence  PhosphoGroups Significance pSite  \\\n",
       "6  18073               LLS(ph)SHLK              1          NaN  S655   \n",
       "\n",
       "        T00      T05       T10       T15  T20  \n",
       "6  0.221692  0.07738  0.388686  0.098824  NaN  "
      ]
     },
     "execution_count": 5,
     "metadata": {},
     "output_type": "execute_result"
    }
   ],
   "source": [
    "phospho_df[phospho_df[\"T20\"].isnull()]"
   ]
  },
  {
   "cell_type": "code",
   "execution_count": 6,
   "metadata": {
    "collapsed": false
   },
   "outputs": [
    {
     "name": "stdout",
     "output_type": "stream",
     "text": [
      "Found NaN\n"
     ]
    }
   ],
   "source": [
    "if(np.isnan(phospho_df[\"T20\"][6])):\n",
    "    print \"Found NaN\""
   ]
  },
  {
   "cell_type": "markdown",
   "metadata": {},
   "source": [
    "## Grab a block of columns or the column names"
   ]
  },
  {
   "cell_type": "code",
   "execution_count": 7,
   "metadata": {
    "collapsed": false
   },
   "outputs": [
    {
     "data": {
      "text/html": [
       "<div>\n",
       "<table border=\"1\" class=\"dataframe\">\n",
       "  <thead>\n",
       "    <tr style=\"text-align: right;\">\n",
       "      <th></th>\n",
       "      <th>T00</th>\n",
       "      <th>T05</th>\n",
       "      <th>T10</th>\n",
       "      <th>T15</th>\n",
       "      <th>T20</th>\n",
       "    </tr>\n",
       "  </thead>\n",
       "  <tbody>\n",
       "    <tr>\n",
       "      <th>0</th>\n",
       "      <td>-0.041432</td>\n",
       "      <td>0.014212</td>\n",
       "      <td>0.064607</td>\n",
       "      <td>0.132248</td>\n",
       "      <td>0.131194</td>\n",
       "    </tr>\n",
       "    <tr>\n",
       "      <th>1</th>\n",
       "      <td>-0.004523</td>\n",
       "      <td>-0.020311</td>\n",
       "      <td>0.022332</td>\n",
       "      <td>0.002595</td>\n",
       "      <td>0.031819</td>\n",
       "    </tr>\n",
       "    <tr>\n",
       "      <th>2</th>\n",
       "      <td>-0.095188</td>\n",
       "      <td>-0.039221</td>\n",
       "      <td>-0.043705</td>\n",
       "      <td>-0.042115</td>\n",
       "      <td>-0.077330</td>\n",
       "    </tr>\n",
       "    <tr>\n",
       "      <th>3</th>\n",
       "      <td>-0.054797</td>\n",
       "      <td>0.098554</td>\n",
       "      <td>0.041944</td>\n",
       "      <td>-0.105411</td>\n",
       "      <td>0.020769</td>\n",
       "    </tr>\n",
       "    <tr>\n",
       "      <th>4</th>\n",
       "      <td>-0.113489</td>\n",
       "      <td>-0.100685</td>\n",
       "      <td>-0.020019</td>\n",
       "      <td>-0.034352</td>\n",
       "      <td>-0.081125</td>\n",
       "    </tr>\n",
       "    <tr>\n",
       "      <th>5</th>\n",
       "      <td>-0.093079</td>\n",
       "      <td>-0.057932</td>\n",
       "      <td>-0.013072</td>\n",
       "      <td>0.058247</td>\n",
       "      <td>-0.062625</td>\n",
       "    </tr>\n",
       "    <tr>\n",
       "      <th>6</th>\n",
       "      <td>0.221692</td>\n",
       "      <td>0.077380</td>\n",
       "      <td>0.388686</td>\n",
       "      <td>0.098824</td>\n",
       "      <td>NaN</td>\n",
       "    </tr>\n",
       "    <tr>\n",
       "      <th>7</th>\n",
       "      <td>-0.134129</td>\n",
       "      <td>0.469573</td>\n",
       "      <td>0.556307</td>\n",
       "      <td>0.582460</td>\n",
       "      <td>0.470823</td>\n",
       "    </tr>\n",
       "    <tr>\n",
       "      <th>8</th>\n",
       "      <td>-0.028131</td>\n",
       "      <td>-0.014631</td>\n",
       "      <td>-0.027719</td>\n",
       "      <td>-0.011952</td>\n",
       "      <td>-0.024663</td>\n",
       "    </tr>\n",
       "    <tr>\n",
       "      <th>9</th>\n",
       "      <td>-0.031858</td>\n",
       "      <td>0.073957</td>\n",
       "      <td>-0.045327</td>\n",
       "      <td>0.043624</td>\n",
       "      <td>0.001154</td>\n",
       "    </tr>\n",
       "    <tr>\n",
       "      <th>10</th>\n",
       "      <td>0.048655</td>\n",
       "      <td>0.048236</td>\n",
       "      <td>0.020342</td>\n",
       "      <td>0.028993</td>\n",
       "      <td>0.023894</td>\n",
       "    </tr>\n",
       "    <tr>\n",
       "      <th>11</th>\n",
       "      <td>0.060462</td>\n",
       "      <td>0.037874</td>\n",
       "      <td>0.094777</td>\n",
       "      <td>0.073409</td>\n",
       "      <td>0.075053</td>\n",
       "    </tr>\n",
       "    <tr>\n",
       "      <th>12</th>\n",
       "      <td>0.032242</td>\n",
       "      <td>0.014784</td>\n",
       "      <td>0.061154</td>\n",
       "      <td>0.011782</td>\n",
       "      <td>-0.010004</td>\n",
       "    </tr>\n",
       "    <tr>\n",
       "      <th>13</th>\n",
       "      <td>-0.000765</td>\n",
       "      <td>-0.089498</td>\n",
       "      <td>0.021053</td>\n",
       "      <td>-0.006463</td>\n",
       "      <td>0.016924</td>\n",
       "    </tr>\n",
       "  </tbody>\n",
       "</table>\n",
       "</div>"
      ],
      "text/plain": [
       "         T00       T05       T10       T15       T20\n",
       "0  -0.041432  0.014212  0.064607  0.132248  0.131194\n",
       "1  -0.004523 -0.020311  0.022332  0.002595  0.031819\n",
       "2  -0.095188 -0.039221 -0.043705 -0.042115 -0.077330\n",
       "3  -0.054797  0.098554  0.041944 -0.105411  0.020769\n",
       "4  -0.113489 -0.100685 -0.020019 -0.034352 -0.081125\n",
       "5  -0.093079 -0.057932 -0.013072  0.058247 -0.062625\n",
       "6   0.221692  0.077380  0.388686  0.098824       NaN\n",
       "7  -0.134129  0.469573  0.556307  0.582460  0.470823\n",
       "8  -0.028131 -0.014631 -0.027719 -0.011952 -0.024663\n",
       "9  -0.031858  0.073957 -0.045327  0.043624  0.001154\n",
       "10  0.048655  0.048236  0.020342  0.028993  0.023894\n",
       "11  0.060462  0.037874  0.094777  0.073409  0.075053\n",
       "12  0.032242  0.014784  0.061154  0.011782 -0.010004\n",
       "13 -0.000765 -0.089498  0.021053 -0.006463  0.016924"
      ]
     },
     "execution_count": 7,
     "metadata": {},
     "output_type": "execute_result"
    }
   ],
   "source": [
    "phospho_df.loc[:,'T00':'T20']"
   ]
  },
  {
   "cell_type": "code",
   "execution_count": 8,
   "metadata": {
    "collapsed": false
   },
   "outputs": [
    {
     "name": "stdout",
     "output_type": "stream",
     "text": [
      "T00\n",
      "T05\n",
      "T10\n",
      "T15\n",
      "T20\n"
     ]
    }
   ],
   "source": [
    "for colname in phospho_df.loc[:,'T00':'T20'].columns.values:\n",
    "    print colname"
   ]
  },
  {
   "cell_type": "markdown",
   "metadata": {},
   "source": [
    "## Create new columns that take the absolute value of the log-scale fold change\n",
    "Use a lambda function that takes the absolute value of the log fold change in the current column"
   ]
  },
  {
   "cell_type": "code",
   "execution_count": 9,
   "metadata": {
    "collapsed": false
   },
   "outputs": [],
   "source": [
    "for colname in phospho_df.loc[:,'T00':'T20'].columns.values:\n",
    "    new_col = colname + '_ABS'\n",
    "    phospho_df[new_col] = phospho_df.apply(lambda row: abs(row[colname]), axis=1)"
   ]
  },
  {
   "cell_type": "code",
   "execution_count": 10,
   "metadata": {
    "collapsed": false
   },
   "outputs": [
    {
     "data": {
      "text/html": [
       "<div>\n",
       "<table border=\"1\" class=\"dataframe\">\n",
       "  <thead>\n",
       "    <tr style=\"text-align: right;\">\n",
       "      <th></th>\n",
       "      <th>id</th>\n",
       "      <th>Modified Peptide Sequence</th>\n",
       "      <th>PhosphoGroups</th>\n",
       "      <th>Significance</th>\n",
       "      <th>pSite</th>\n",
       "      <th>T00</th>\n",
       "      <th>T05</th>\n",
       "      <th>T10</th>\n",
       "      <th>T15</th>\n",
       "      <th>T20</th>\n",
       "      <th>T00_ABS</th>\n",
       "      <th>T05_ABS</th>\n",
       "      <th>T10_ABS</th>\n",
       "      <th>T15_ABS</th>\n",
       "      <th>T20_ABS</th>\n",
       "    </tr>\n",
       "  </thead>\n",
       "  <tbody>\n",
       "    <tr>\n",
       "      <th>0</th>\n",
       "      <td>18075</td>\n",
       "      <td>NVVDENLINDMDS(ph)EDAHK</td>\n",
       "      <td>1</td>\n",
       "      <td>NaN</td>\n",
       "      <td>S618</td>\n",
       "      <td>-0.041432</td>\n",
       "      <td>0.014212</td>\n",
       "      <td>0.064607</td>\n",
       "      <td>0.132248</td>\n",
       "      <td>0.131194</td>\n",
       "      <td>0.041432</td>\n",
       "      <td>0.014212</td>\n",
       "      <td>0.064607</td>\n",
       "      <td>0.132248</td>\n",
       "      <td>0.131194</td>\n",
       "    </tr>\n",
       "    <tr>\n",
       "      <th>1</th>\n",
       "      <td>18058</td>\n",
       "      <td>ADDEEDLS(ph)DENIQPELR</td>\n",
       "      <td>1</td>\n",
       "      <td>NaN</td>\n",
       "      <td>S720</td>\n",
       "      <td>-0.004523</td>\n",
       "      <td>-0.020311</td>\n",
       "      <td>0.022332</td>\n",
       "      <td>0.002595</td>\n",
       "      <td>0.031819</td>\n",
       "      <td>0.004523</td>\n",
       "      <td>0.020311</td>\n",
       "      <td>0.022332</td>\n",
       "      <td>0.002595</td>\n",
       "      <td>0.031819</td>\n",
       "    </tr>\n",
       "    <tr>\n",
       "      <th>2</th>\n",
       "      <td>18078</td>\n",
       "      <td>SNS(ph)IDYAK</td>\n",
       "      <td>1</td>\n",
       "      <td>NaN</td>\n",
       "      <td>S467</td>\n",
       "      <td>-0.095188</td>\n",
       "      <td>-0.039221</td>\n",
       "      <td>-0.043705</td>\n",
       "      <td>-0.042115</td>\n",
       "      <td>-0.077330</td>\n",
       "      <td>0.095188</td>\n",
       "      <td>0.039221</td>\n",
       "      <td>0.043705</td>\n",
       "      <td>0.042115</td>\n",
       "      <td>0.077330</td>\n",
       "    </tr>\n",
       "    <tr>\n",
       "      <th>3</th>\n",
       "      <td>18077</td>\n",
       "      <td>QHLSDIT(ph)LEER</td>\n",
       "      <td>1</td>\n",
       "      <td>NaN</td>\n",
       "      <td>T633</td>\n",
       "      <td>-0.054797</td>\n",
       "      <td>0.098554</td>\n",
       "      <td>0.041944</td>\n",
       "      <td>-0.105411</td>\n",
       "      <td>0.020769</td>\n",
       "      <td>0.054797</td>\n",
       "      <td>0.098554</td>\n",
       "      <td>0.041944</td>\n",
       "      <td>0.105411</td>\n",
       "      <td>0.020769</td>\n",
       "    </tr>\n",
       "    <tr>\n",
       "      <th>4</th>\n",
       "      <td>18068</td>\n",
       "      <td>GLDDESGPTHGNDS(ph)GNHR</td>\n",
       "      <td>1</td>\n",
       "      <td>NaN</td>\n",
       "      <td>S215</td>\n",
       "      <td>-0.113489</td>\n",
       "      <td>-0.100685</td>\n",
       "      <td>-0.020019</td>\n",
       "      <td>-0.034352</td>\n",
       "      <td>-0.081125</td>\n",
       "      <td>0.113489</td>\n",
       "      <td>0.100685</td>\n",
       "      <td>0.020019</td>\n",
       "      <td>0.034352</td>\n",
       "      <td>0.081125</td>\n",
       "    </tr>\n",
       "  </tbody>\n",
       "</table>\n",
       "</div>"
      ],
      "text/plain": [
       "      id Modified Peptide Sequence  PhosphoGroups Significance pSite  \\\n",
       "0  18075    NVVDENLINDMDS(ph)EDAHK              1          NaN  S618   \n",
       "1  18058     ADDEEDLS(ph)DENIQPELR              1          NaN  S720   \n",
       "2  18078              SNS(ph)IDYAK              1          NaN  S467   \n",
       "3  18077           QHLSDIT(ph)LEER              1          NaN  T633   \n",
       "4  18068    GLDDESGPTHGNDS(ph)GNHR              1          NaN  S215   \n",
       "\n",
       "        T00       T05       T10       T15       T20   T00_ABS   T05_ABS  \\\n",
       "0 -0.041432  0.014212  0.064607  0.132248  0.131194  0.041432  0.014212   \n",
       "1 -0.004523 -0.020311  0.022332  0.002595  0.031819  0.004523  0.020311   \n",
       "2 -0.095188 -0.039221 -0.043705 -0.042115 -0.077330  0.095188  0.039221   \n",
       "3 -0.054797  0.098554  0.041944 -0.105411  0.020769  0.054797  0.098554   \n",
       "4 -0.113489 -0.100685 -0.020019 -0.034352 -0.081125  0.113489  0.100685   \n",
       "\n",
       "    T10_ABS   T15_ABS   T20_ABS  \n",
       "0  0.064607  0.132248  0.131194  \n",
       "1  0.022332  0.002595  0.031819  \n",
       "2  0.043705  0.042115  0.077330  \n",
       "3  0.041944  0.105411  0.020769  \n",
       "4  0.020019  0.034352  0.081125  "
      ]
     },
     "execution_count": 10,
     "metadata": {},
     "output_type": "execute_result"
    }
   ],
   "source": [
    "phospho_df.head()"
   ]
  },
  {
   "cell_type": "markdown",
   "metadata": {},
   "source": [
    "## Now create another new column that takes the min over the 'ABS' columns\n",
    "Example in FilterNetworkExpression122915.html"
   ]
  },
  {
   "cell_type": "code",
   "execution_count": null,
   "metadata": {
    "collapsed": true
   },
   "outputs": [],
   "source": []
  }
 ],
 "metadata": {
  "kernelspec": {
   "display_name": "Python 2",
   "language": "python",
   "name": "python2"
  },
  "language_info": {
   "codemirror_mode": {
    "name": "ipython",
    "version": 2
   },
   "file_extension": ".py",
   "mimetype": "text/x-python",
   "name": "python",
   "nbconvert_exporter": "python",
   "pygments_lexer": "ipython2",
   "version": "2.7.11"
  }
 },
 "nbformat": 4,
 "nbformat_minor": 0
}
